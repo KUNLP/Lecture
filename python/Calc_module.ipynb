{
 "cells": [
  {
   "cell_type": "code",
   "execution_count": 1,
   "metadata": {},
   "outputs": [],
   "source": [
    "class Calc:\n",
    "    \n",
    "    name = \"I'am Calc Module!\"\n",
    "    \n",
    "    def add(self, a, b):\n",
    "        result = a + b\n",
    "        print(\"{0:f} + {1:f} = {2:f}\".format(a,b,result))\n",
    "    def sub(self, a, b):\n",
    "        result = a - b\n",
    "        print(\"{0:f} - {1:f} = {2:f}\".format(a,b,result))\n",
    "    def mul(self, a, b):\n",
    "        result = a * b\n",
    "        print(\"{0:f} * {1:f} = {2:f}\".format(a,b,result))\n",
    "    def div(self, a, b):\n",
    "        if b != 0:\n",
    "            result = a / b\n",
    "            print(\"{0:f} / {1:f} = {2:f}\".format(a,b,result))\n",
    "        else:\n",
    "            print(\"Divided by zero!\")"
   ]
  },
  {
   "cell_type": "code",
   "execution_count": null,
   "metadata": {},
   "outputs": [],
   "source": []
  }
 ],
 "metadata": {
  "kernelspec": {
   "display_name": "Python 3",
   "language": "python",
   "name": "python3"
  },
  "language_info": {
   "codemirror_mode": {
    "name": "ipython",
    "version": 3
   },
   "file_extension": ".py",
   "mimetype": "text/x-python",
   "name": "python",
   "nbconvert_exporter": "python",
   "pygments_lexer": "ipython3",
   "version": "3.8.5"
  }
 },
 "nbformat": 4,
 "nbformat_minor": 4
}
