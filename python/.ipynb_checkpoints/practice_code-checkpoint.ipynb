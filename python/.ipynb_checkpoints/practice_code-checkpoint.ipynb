{
 "cells": [
  {
   "cell_type": "code",
   "execution_count": 1,
   "metadata": {},
   "outputs": [
    {
     "data": {
      "text/plain": [
       "((3+4j), True)"
      ]
     },
     "execution_count": 1,
     "metadata": {},
     "output_type": "execute_result"
    }
   ],
   "source": [
    "a=1+3j\n",
    "b=2+1j\n",
    "c=a+b\n",
    "d=(c==3+4j)\n",
    "c, d"
   ]
  },
  {
   "cell_type": "code",
   "execution_count": 2,
   "metadata": {},
   "outputs": [
    {
     "data": {
      "text/plain": [
       "(78.5, 31.400000000000002)"
      ]
     },
     "execution_count": 2,
     "metadata": {},
     "output_type": "execute_result"
    }
   ],
   "source": [
    "r=5\n",
    "area=3.14*r*r\n",
    "circum=2.0*3.14*r\n",
    "area, circum"
   ]
  },
  {
   "cell_type": "code",
   "execution_count": 3,
   "metadata": {},
   "outputs": [
    {
     "data": {
      "text/plain": [
       "(7, 36)"
      ]
     },
     "execution_count": 3,
     "metadata": {},
     "output_type": "execute_result"
    }
   ],
   "source": [
    "a=456\n",
    "h=456/60\n",
    "m=456%60\n",
    "int(h), m"
   ]
  },
  {
   "cell_type": "code",
   "execution_count": 4,
   "metadata": {},
   "outputs": [
    {
     "data": {
      "text/plain": [
       "'3.14'"
      ]
     },
     "execution_count": 4,
     "metadata": {},
     "output_type": "execute_result"
    }
   ],
   "source": [
    "a=str(3.14)\n",
    "a"
   ]
  },
  {
   "cell_type": "code",
   "execution_count": 5,
   "metadata": {},
   "outputs": [
    {
     "name": "stdout",
     "output_type": "stream",
     "text": [
      "[1, 2, 3.14, 4, 5, 6, 7]\n"
     ]
    },
    {
     "data": {
      "text/plain": [
       "[1, 2, 1, 2, 1, 2, 1, 2, 1, 2]"
      ]
     },
     "execution_count": 5,
     "metadata": {},
     "output_type": "execute_result"
    }
   ],
   "source": [
    "nums = [1,2,3.14,4,5]\n",
    "nums=nums+[6,7]\n",
    "print(nums)\n",
    "nums=[1,2]*5\n",
    "nums"
   ]
  },
  {
   "cell_type": "code",
   "execution_count": 6,
   "metadata": {},
   "outputs": [
    {
     "data": {
      "text/plain": [
       "[-1, 2, 3, 4, -2]"
      ]
     },
     "execution_count": 6,
     "metadata": {},
     "output_type": "execute_result"
    }
   ],
   "source": [
    "nums = [1, 2, 3.14, 4, 5]\n",
    "nums[2] = 3\n",
    "nums[0],nums[4]=-1,-2\n",
    "nums"
   ]
  },
  {
   "cell_type": "code",
   "execution_count": 7,
   "metadata": {},
   "outputs": [
    {
     "data": {
      "text/plain": [
       "4"
      ]
     },
     "execution_count": 7,
     "metadata": {},
     "output_type": "execute_result"
    }
   ],
   "source": [
    "nums=range(5)\n",
    "sum(nums)\n",
    "max(nums)"
   ]
  },
  {
   "cell_type": "code",
   "execution_count": 8,
   "metadata": {},
   "outputs": [
    {
     "name": "stdout",
     "output_type": "stream",
     "text": [
      "['pi', 'e']\n",
      "[3.14, 2.7]\n",
      "[('pi', 3.14), ('e', 2.7)]\n",
      "2.7\n"
     ]
    }
   ],
   "source": [
    "d={\"pi\":3.14, \"e\":2.7}\n",
    "\n",
    "k=d.keys()\n",
    "k_list=list(k)\n",
    "print(k_list)\n",
    "\n",
    "v=d.values()\n",
    "v_list=list(v)\n",
    "print(v_list)\n",
    "\n",
    "i=d.items()\n",
    "i_list=list(i)\n",
    "print(i_list)\n",
    "\n",
    "g=d.get(\"e\")\n",
    "print(g)"
   ]
  },
  {
   "cell_type": "code",
   "execution_count": 9,
   "metadata": {},
   "outputs": [
    {
     "name": "stdout",
     "output_type": "stream",
     "text": [
      "[5, 4, 3, 2, 1] ['ghi', 'def', 'abc']\n"
     ]
    }
   ],
   "source": [
    "nums = [1,2,3,4,5]\n",
    "strs = ['abc','def','ghi']\n",
    "print(nums[::-1],strs[::-1])"
   ]
  },
  {
   "cell_type": "code",
   "execution_count": 10,
   "metadata": {},
   "outputs": [
    {
     "name": "stdout",
     "output_type": "stream",
     "text": [
      "['김철수', '이영희', '임꺽정', '홍길동']\n",
      "김철수 2.8\n"
     ]
    }
   ],
   "source": [
    "scores={\"홍길동\":3.4,\"임꺽정\":4.0,\"김철수\":2.8,\"이영희\":3.9}\n",
    "\n",
    "data=scores.keys()\n",
    "data_list=list(data)\n",
    "data_list.sort()\n",
    "print(data_list)\n",
    "\n",
    "key=data_list[0]\n",
    "value=scores[key]\n",
    "print(key,value)\n"
   ]
  },
  {
   "cell_type": "code",
   "execution_count": 11,
   "metadata": {},
   "outputs": [
    {
     "name": "stdout",
     "output_type": "stream",
     "text": [
      "height=  1.75  meters\n",
      "('height= ', 1.75, ' meters')\n",
      "height= 1.75 meters\n"
     ]
    }
   ],
   "source": [
    "str1=\"height= \",1.75,\" meters\"\n",
    "str2=\"height= \"+str(1.75)+\" meters\"\n",
    "\n",
    "print(\"height= \",1.75,\" meters\")\n",
    "print(str1)\n",
    "print(str2)"
   ]
  },
  {
   "cell_type": "code",
   "execution_count": 12,
   "metadata": {},
   "outputs": [
    {
     "name": "stdout",
     "output_type": "stream",
     "text": [
      "height=1.000 meters or 100 cm\n",
      "17\n"
     ]
    },
    {
     "data": {
      "text/plain": [
       "'s is s'"
      ]
     },
     "execution_count": 12,
     "metadata": {},
     "output_type": "execute_result"
    }
   ],
   "source": [
    "str=\"{0:s}={1:.3f} meters or {2:d} cm\".format(\"height\", 1.0, 100)\n",
    "print(str)\n",
    "s=\" This is string! \"\n",
    "print(len(s))\n",
    "s[4:10]"
   ]
  },
  {
   "cell_type": "code",
   "execution_count": 13,
   "metadata": {},
   "outputs": [
    {
     "name": "stdout",
     "output_type": "stream",
     "text": [
      "x=1\n",
      "y=11.00\n",
      "\n"
     ]
    }
   ],
   "source": [
    "x=float(input(\"x=\"))\n",
    "y=3.0*x*x+5.0*x+3.0\n",
    "print(\"y={0:.2f}\\n\".format(y))"
   ]
  },
  {
   "cell_type": "code",
   "execution_count": 14,
   "metadata": {},
   "outputs": [
    {
     "name": "stdout",
     "output_type": "stream",
     "text": [
      "r=1\n",
      "반지름이 1.0인 원의 넓이는 3.1이고 둘레는 6.3입니다.\n"
     ]
    }
   ],
   "source": [
    "r=float(input(\"r=\"))\n",
    "pi=3.14\n",
    "a=pi*r*r\n",
    "c=2.0*pi*r\n",
    "str=\"반지름이 {0:.1f}인 원의 넓이는 {1:.1f}이고 둘레는 {2:.1f}입니다.\".format(r,a,c)\n",
    "print(str)"
   ]
  },
  {
   "cell_type": "code",
   "execution_count": 15,
   "metadata": {},
   "outputs": [
    {
     "name": "stdout",
     "output_type": "stream",
     "text": [
      "죽는 날까지 하늘을 우러러\n",
      "한 점 부끄럼이 없기를,\n",
      "잎새에 이는 바람에도\n",
      "너는 괴로워했다.\n",
      "별을 노래하는 마음으로\n",
      "모든 죽어가는 것을 사랑해야지\n",
      "그리고 너한테 주어진 길을\n",
      "걸어가야겠다.\n",
      "오늘 밤에도 별이 바람에 스치운다.\n"
     ]
    }
   ],
   "source": [
    "str=\"\"\"   죽는 날까지 하늘을 우러러\n",
    "한 점 부끄럼이 없기를,\n",
    "잎새에 이는 바람에도\n",
    "나는 괴로워했다.\n",
    "별을 노래하는 마음으로\n",
    "모든 죽어가는 것을 사랑해야지\n",
    "그리고 나한테 주어진 길을\n",
    "걸어가야겠다.\n",
    "오늘 밤에도 별이 바람에 스치운다.   \"\"\"\n",
    "str=str.strip()\n",
    "str=str.replace(\"나\",\"너\")\n",
    "print(str)"
   ]
  },
  {
   "cell_type": "code",
   "execution_count": 31,
   "metadata": {},
   "outputs": [
    {
     "name": "stdout",
     "output_type": "stream",
     "text": [
      "True\n",
      "True\n"
     ]
    },
    {
     "data": {
      "text/plain": [
       "True"
      ]
     },
     "execution_count": 31,
     "metadata": {},
     "output_type": "execute_result"
    }
   ],
   "source": [
    "A = 1\n",
    "B = 2\n",
    "A and B\n",
    "A or B\n",
    "not A\n",
    "\n",
    "1 in [1,2,3]\n",
    "\"b\" in \"abc\"\n",
    "\n",
    "print(all([1,1,1]))\n",
    "print(any([0,1,0]))\n",
    "\n",
    "#(1, 2, 3) < (1, 2, 4) \n",
    "#[1, 2, 3] < [1, 2, 4] \n",
    "#'C' < 'Pascal' < 'Perl' <'Python'\n",
    "#(1, 2, 3, 4) < (1, 2, 4) \n",
    "#(1, 2) < (1, 2, -1) \n",
    "#(1, 2, 3) == (1.0, 2.0, 3.0) \n",
    "(1, 2, ('aa', 'ab')) < (1, 2, ('abc', 'a'), 4) "
   ]
  },
  {
   "cell_type": "code",
   "execution_count": 25,
   "metadata": {},
   "outputs": [
    {
     "name": "stdout",
     "output_type": "stream",
     "text": [
      "True\n",
      "True\n",
      "140729420228384\n",
      "140729420228384\n",
      "True\n",
      "False\n",
      "2499373852464\n",
      "2499373852208\n"
     ]
    }
   ],
   "source": [
    "a=1\n",
    "b=1\n",
    "print(a==b)\n",
    "print(a is b)\n",
    "print(id(a))\n",
    "print(id(b))\n",
    "\n",
    "a=10000000000000\n",
    "b=10000000000000\n",
    "print(a==b)\n",
    "print(a is b)\n",
    "print(id(a))\n",
    "print(id(b))"
   ]
  },
  {
   "cell_type": "code",
   "execution_count": 32,
   "metadata": {},
   "outputs": [
    {
     "name": "stdout",
     "output_type": "stream",
     "text": [
      "num1=10\n",
      "num2=20\n",
      "operator=/\n",
      "두 수의 나눔은 0.5 입니다.\n"
     ]
    }
   ],
   "source": [
    "n1 = float(input(\"num1=\"))\n",
    "n2 = float(input(\"num2=\"))\n",
    "op = input(\"operator=\")\n",
    "if(op == '+'):\n",
    "    res = n1+n2\n",
    "    print(\"두 수의 합은\",res,\"입니다.\")\n",
    "elif(op == '-'):\n",
    "    res = n1-n2\n",
    "    print(\"두 수의 차는\",res,\"입니다.\")\n",
    "elif(op == '*'):\n",
    "    res = n1*n2\n",
    "    print(\"두 수의 곱은\",res,\"입니다.\")\n",
    "elif(op == '/'):\n",
    "    res = n1/n2\n",
    "    print(\"두 수의 나눔은\",res,\"입니다.\")\n",
    "else:\n",
    "    print(\"잘못된 연산자를 입력하셨습니다.\")"
   ]
  },
  {
   "cell_type": "code",
   "execution_count": 27,
   "metadata": {},
   "outputs": [
    {
     "name": "stdout",
     "output_type": "stream",
     "text": [
      "x=4\n",
      "lower range\n"
     ]
    }
   ],
   "source": [
    "x = int(input(\"x=\"))\n",
    "message = \"lower range\" if 1 < x < 5 else \"upper range\"\n",
    "print(message)"
   ]
  },
  {
   "cell_type": "code",
   "execution_count": 8,
   "metadata": {},
   "outputs": [
    {
     "name": "stdout",
     "output_type": "stream",
     "text": [
      "x=10\n",
      "out of range\n"
     ]
    }
   ],
   "source": [
    "x = int(input(\"x=\"))\n",
    "message = \"lower range\" if 1 < x < 5 else \"upper range\" if 5 < x < 10 else \"out of range\"\n",
    "print(message)"
   ]
  },
  {
   "cell_type": "code",
   "execution_count": 14,
   "metadata": {},
   "outputs": [
    {
     "name": "stdout",
     "output_type": "stream",
     "text": [
      "[2단]\n",
      "2*1=2\n",
      "2*2=4\n",
      "2*3=6\n",
      "2*4=8\n",
      "2*5=10\n",
      "2*6=12\n",
      "2*7=14\n",
      "2*8=16\n",
      "2*9=18\n",
      "\n",
      "[3단]\n",
      "3*1=3\n",
      "3*2=6\n",
      "3*3=9\n",
      "3*4=12\n",
      "3*5=15\n",
      "3*6=18\n",
      "3*7=21\n",
      "3*8=24\n",
      "3*9=27\n",
      "\n",
      "[4단]\n",
      "4*1=4\n",
      "4*2=8\n",
      "4*3=12\n",
      "4*4=16\n",
      "4*5=20\n",
      "4*6=24\n",
      "4*7=28\n",
      "4*8=32\n",
      "4*9=36\n",
      "\n",
      "[5단]\n",
      "5*1=5\n",
      "5*2=10\n",
      "5*3=15\n",
      "5*4=20\n",
      "5*5=25\n",
      "5*6=30\n",
      "5*7=35\n",
      "5*8=40\n",
      "5*9=45\n",
      "\n",
      "[6단]\n",
      "6*1=6\n",
      "6*2=12\n",
      "6*3=18\n",
      "6*4=24\n",
      "6*5=30\n",
      "6*6=36\n",
      "6*7=42\n",
      "6*8=48\n",
      "6*9=54\n",
      "\n",
      "[7단]\n",
      "7*1=7\n",
      "7*2=14\n",
      "7*3=21\n",
      "7*4=28\n",
      "7*5=35\n",
      "7*6=42\n",
      "7*7=49\n",
      "7*8=56\n",
      "7*9=63\n",
      "\n",
      "[8단]\n",
      "8*1=8\n",
      "8*2=16\n",
      "8*3=24\n",
      "8*4=32\n",
      "8*5=40\n",
      "8*6=48\n",
      "8*7=56\n",
      "8*8=64\n",
      "8*9=72\n",
      "\n",
      "[9단]\n",
      "9*1=9\n",
      "9*2=18\n",
      "9*3=27\n",
      "9*4=36\n",
      "9*5=45\n",
      "9*6=54\n",
      "9*7=63\n",
      "9*8=72\n",
      "9*9=81\n",
      "\n",
      "[1, 2, 3]\n",
      "1\n",
      "2\n",
      "3\n",
      "[4, 5, 6]\n",
      "4\n",
      "5\n",
      "6\n"
     ]
    }
   ],
   "source": [
    "for i in range(2,10):\n",
    "    print(\"[{0:d}단]\".format(i))\n",
    "    for j in range(1,10):\n",
    "        k = i*j\n",
    "        print(\"{0:d}*{1:d}={2:d}\".format(i,j,k))\n",
    "    print(\"\")\n",
    "\n",
    "v=[[1,2,3],[4,5,6]]\n",
    "\n",
    "for i in v:\n",
    "    print(i)\n",
    "    for j in i:\n",
    "        print(j)"
   ]
  },
  {
   "cell_type": "code",
   "execution_count": 7,
   "metadata": {},
   "outputs": [
    {
     "name": "stdout",
     "output_type": "stream",
     "text": [
      "[0, 1, 2, 3, 4, 5, 6, 7, 8, 9]\n",
      "0\n",
      "1\n",
      "2\n",
      "3\n",
      "4\n",
      "5\n",
      "6\n",
      "7\n",
      "8\n",
      "9\n",
      "[0, 1, 2, 3, 4, 5, 6, 7, 8, 9]\n",
      "1\n",
      "2\n",
      "3\n",
      "4\n",
      "5\n",
      "6\n",
      "[1, 2, 3, 4, 5, 6]\n"
     ]
    }
   ],
   "source": [
    "v = list(range(10))\n",
    "print(v)\n",
    "\n",
    "for i in v:\n",
    "    print(i)\n",
    "\n",
    "print([i for i in v])\n",
    "\n",
    "v=[[1,2,3],[4,5,6]]\n",
    "\n",
    "for i in v:\n",
    "    for j in i:\n",
    "        print(j)\n",
    "        \n",
    "print([j for i in v for j in i])"
   ]
  },
  {
   "cell_type": "code",
   "execution_count": 17,
   "metadata": {},
   "outputs": [
    {
     "name": "stdout",
     "output_type": "stream",
     "text": [
      "0 m\n",
      "1 y\n",
      "2 s\n",
      "3 t\n",
      "4 r\n",
      "5 i\n",
      "6 n\n",
      "7 g\n",
      "0 m\n",
      "1 y\n",
      "2 s\n",
      "3 t\n",
      "4 r\n",
      "5 i\n",
      "6 n\n",
      "7 g\n",
      "0\n",
      "1\n",
      "2\n",
      "5\n",
      "6\n",
      "7\n",
      "8\n",
      "9\n"
     ]
    }
   ],
   "source": [
    "for i,ch in enumerate(\"mystring\"): \n",
    "    print(i,ch)\n",
    "\n",
    "i = 0\n",
    "for ch in \"mystring\":\n",
    "    print(i,ch)\n",
    "    i = i + 1 \n",
    "for i in range(10): \n",
    "    if 2<i<5:\n",
    "        continue\n",
    "    print(i)"
   ]
  },
  {
   "cell_type": "code",
   "execution_count": null,
   "metadata": {},
   "outputs": [],
   "source": [
    "v1=10\n",
    "v2=v1\n",
    "v1=50\n",
    "print(v1,v2)\n",
    "\n",
    "l1=[10]\n",
    "l2=l1\n",
    "l1[0]=50\n",
    "print(l1,l2)\n",
    "\n",
    "l1=[10]\n",
    "l2=l1[:]\n",
    "l1[0]=50\n",
    "print(l1,l2)"
   ]
  },
  {
   "cell_type": "code",
   "execution_count": 5,
   "metadata": {},
   "outputs": [
    {
     "name": "stdout",
     "output_type": "stream",
     "text": [
      "국어=90\n",
      "영어=85\n",
      "수학=72\n",
      "평균은 82.3이며, 등급은 B입니다.\n"
     ]
    }
   ],
   "source": [
    "kor = float(input(\"국어=\"))\n",
    "eng = float(input(\"영어=\"))\n",
    "math = float(input(\"수학=\"))\n",
    "\n",
    "avg = (kor+eng+math)/3.0\n",
    "\n",
    "if 90.0 <= avg <= 100.0:\n",
    "    grade = \"A\"\n",
    "elif 80.0 <= avg < 90:\n",
    "    grade = \"B\"\n",
    "elif 70.0 <= avg < 80:\n",
    "    grade = \"C\"\n",
    "elif 60.0 <= avg < 70:\n",
    "    grade = \"D\"\n",
    "elif 0.0 <= avg < 60:\n",
    "    grade = \"F\"\n",
    "else:\n",
    "    grade = \"NA\"\n",
    "    \n",
    "print(\"평균은 {0:.1f}이며, 등급은 {1:s}입니다.\".format(avg,grade))"
   ]
  },
  {
   "cell_type": "code",
   "execution_count": 18,
   "metadata": {},
   "outputs": [
    {
     "name": "stdout",
     "output_type": "stream",
     "text": [
      "[7, 10]\n",
      "[0, 0, 7, 0, 10]\n"
     ]
    }
   ],
   "source": [
    "list = [-1, 0, 7, -3, 10]\n",
    "x = [i for i in list if i > 0]\n",
    "print(x)\n",
    "x = [i if i > 0 else 0 for i in list]\n",
    "print(x)"
   ]
  },
  {
   "cell_type": "code",
   "execution_count": 35,
   "metadata": {},
   "outputs": [
    {
     "name": "stdout",
     "output_type": "stream",
     "text": [
      "Lines=11\n",
      "10000000001\n",
      "01000000010\n",
      "00100000100\n",
      "00010001000\n",
      "00001010000\n",
      "00000100000\n",
      "00001010000\n",
      "00010001000\n",
      "00100000100\n",
      "01000000010\n",
      "10000000001\n"
     ]
    }
   ],
   "source": [
    "num = int(input(\"Lines=\"))\n",
    "\n",
    "for i in range(0,num):\n",
    "    str = \"\"\n",
    "    for j in range(0,num):\n",
    "        if (i == j) or ((num-1)-i == j):\n",
    "            str += \"1\"\n",
    "        else:\n",
    "            str += \"0\"\n",
    "    print(str)"
   ]
  },
  {
   "cell_type": "code",
   "execution_count": 20,
   "metadata": {},
   "outputs": [
    {
     "name": "stdout",
     "output_type": "stream",
     "text": [
      "Numbers=?1\n",
      "Max= 1\n"
     ]
    }
   ],
   "source": [
    "str=input(\"Numbers=?\")\n",
    "strlist=str.split()\n",
    "\n",
    "max=int(strlist[0])\n",
    "\n",
    "for str1 in strlist[1:]:\n",
    "    num=int(str1)\n",
    "    if(num > max):\n",
    "        max = num\n",
    "        \n",
    "print(\"Max=\",max)   "
   ]
  },
  {
   "cell_type": "code",
   "execution_count": 21,
   "metadata": {},
   "outputs": [
    {
     "name": "stdout",
     "output_type": "stream",
     "text": [
      "30\n"
     ]
    }
   ],
   "source": [
    "def add(x,y):\n",
    "    z=x+y\n",
    "    return z\n",
    "\n",
    "a=10\n",
    "b=add(a,20)\n",
    "print(b)"
   ]
  },
  {
   "cell_type": "code",
   "execution_count": 22,
   "metadata": {},
   "outputs": [
    {
     "name": "stdout",
     "output_type": "stream",
     "text": [
      "30\n"
     ]
    }
   ],
   "source": [
    "def add(x,y):\n",
    "    z=x+y\n",
    "    print(z)\n",
    "\n",
    "a=10\n",
    "add(a,20)"
   ]
  },
  {
   "cell_type": "code",
   "execution_count": 23,
   "metadata": {},
   "outputs": [
    {
     "name": "stdout",
     "output_type": "stream",
     "text": [
      "6\n",
      "6\n"
     ]
    }
   ],
   "source": [
    "def list_add1(list):\n",
    "    return sum(list)\n",
    "\n",
    "def list_add2(list):\n",
    "    sum=0\n",
    "    for item in list:\n",
    "        sum += item # sum = sum + item\n",
    "    return sum\n",
    "\n",
    "nums=[1,2,3]\n",
    "print(list_add1(nums))\n",
    "print(list_add2(nums))"
   ]
  },
  {
   "cell_type": "code",
   "execution_count": 24,
   "metadata": {},
   "outputs": [
    {
     "name": "stdout",
     "output_type": "stream",
     "text": [
      "30\n",
      "20\n",
      "15\n"
     ]
    }
   ],
   "source": [
    "def add(x=5,y=20):\n",
    "    z=x+y\n",
    "    print(z)\n",
    "\n",
    "add(10)\n",
    "add(10,10)\n",
    "add(y=10)"
   ]
  },
  {
   "cell_type": "code",
   "execution_count": 25,
   "metadata": {},
   "outputs": [
    {
     "name": "stdout",
     "output_type": "stream",
     "text": [
      "3\n",
      "mystring\n",
      "[1, 2, 3, 4]\n"
     ]
    }
   ],
   "source": [
    "def add(x,y):\n",
    "    z=x+y\n",
    "    return z\n",
    "\n",
    "print(add(1,2))\n",
    "print(add(\"my\",\"string\"))\n",
    "print(add([1,2],[3,4]))"
   ]
  },
  {
   "cell_type": "code",
   "execution_count": 26,
   "metadata": {},
   "outputs": [
    {
     "name": "stdout",
     "output_type": "stream",
     "text": [
      "(2, 1)\n"
     ]
    }
   ],
   "source": [
    "def swap(x,y):\n",
    "    return (y,x)\n",
    "\n",
    "print(swap(1,2))"
   ]
  },
  {
   "cell_type": "code",
   "execution_count": 27,
   "metadata": {},
   "outputs": [
    {
     "name": "stdout",
     "output_type": "stream",
     "text": [
      "12\n",
      "(1, 2, 3)\n"
     ]
    }
   ],
   "source": [
    "def scaled_add(c,*args):\n",
    "    return c*sum(args)\n",
    "\n",
    "def showme(*args):\n",
    "    print(args)\n",
    "    \n",
    "print(scaled_add(2,1,2,3))\n",
    "showme(1,2,3)"
   ]
  },
  {
   "cell_type": "code",
   "execution_count": 28,
   "metadata": {},
   "outputs": [
    {
     "name": "stdout",
     "output_type": "stream",
     "text": [
      "12\n",
      "{'scale': 2, 'offset': 0}\n"
     ]
    }
   ],
   "source": [
    "def super_add(*args,**kargs):\n",
    "    c=kargs.get('scale')\n",
    "    o=kargs.get('offset')\n",
    "    return o+c*sum(args)\n",
    "\n",
    "def showmemore(**kargs):\n",
    "    print(kargs)\n",
    "    \n",
    "print(super_add(1,2,3,scale=2,offset=0))\n",
    "showmemore(scale=2,offset=0)"
   ]
  },
  {
   "cell_type": "code",
   "execution_count": 29,
   "metadata": {},
   "outputs": [
    {
     "name": "stdout",
     "output_type": "stream",
     "text": [
      "\"abc def\" is encoded into \"efg!bcd\"\n",
      "\"efg!bcd\" is decoded into \"abc def\"\n"
     ]
    }
   ],
   "source": [
    "def conv_asc(str,num):\n",
    "    new_str = \"\"\n",
    "    for i in str:\n",
    "        code=ord(i)\n",
    "        new_str += chr(code+num)\n",
    "    return new_str\n",
    "    \n",
    "def enc(str,key):\n",
    "    list = str.split()\n",
    "    list = list[::-1] #list.reverse()\n",
    "    new_str=\" \".join(list)\n",
    "    return conv_asc(new_str,key)\n",
    "\n",
    "def dec(str,key):\n",
    "    str=conv_asc(str,key*-1)\n",
    "    list = str.split()\n",
    "    list = list[::-1] #list.reverse()\n",
    "    new_str=\" \".join(list)\n",
    "    return new_str\n",
    "\n",
    "str = \"abc def\"\n",
    "enc_str = enc(str,1)\n",
    "print(\"\\\"\"+str+\"\\\" is encoded into \\\"\"+enc_str+\"\\\"\")\n",
    "\n",
    "dec_str = dec(enc_str,1)\n",
    "print(\"\\\"\"+enc_str+\"\\\" is decoded into \\\"\"+dec_str+\"\\\"\")"
   ]
  },
  {
   "cell_type": "code",
   "execution_count": 30,
   "metadata": {},
   "outputs": [
    {
     "name": "stdout",
     "output_type": "stream",
     "text": [
      "사람 수?1\n",
      "name=1\n",
      "number=1\n",
      "검색할 이름?1\n",
      "1's phone number is 1\n"
     ]
    }
   ],
   "source": [
    "def search_phone(book,name):\n",
    "    num = book[name]\n",
    "    if num:\n",
    "        return num\n",
    "    else:\n",
    "        return \"none\"\n",
    "    \n",
    "n = int(input(\"사람 수?\"))\n",
    "\n",
    "book = dict()\n",
    "\n",
    "for i in range(n):\n",
    "    k = input(\"name=\");\n",
    "    v = input(\"number=\")\n",
    "    book[k]=v\n",
    "    \n",
    "k = input(\"검색할 이름?\")\n",
    "v = search_phone(book,k)\n",
    "print(\"{0:s}'s phone number is {1:s}\".format(k,v))    "
   ]
  },
  {
   "cell_type": "code",
   "execution_count": 31,
   "metadata": {},
   "outputs": [
    {
     "name": "stdout",
     "output_type": "stream",
     "text": [
      "I'am Calc Module!\n",
      "1.000000 + 2.000000 = 3.000000\n",
      "1.000000 - 2.000000 = -1.000000\n",
      "1.000000 * 2.000000 = 2.000000\n",
      "Divided by zero!\n"
     ]
    }
   ],
   "source": [
    "#from Calc_module import *\n",
    "from Calc_module import Calc\n",
    "            \n",
    "num=Calc()\n",
    "print(num.my_name)\n",
    "num.add(1,2)\n",
    "num.sub(1,2)\n",
    "num.mul(1,2)\n",
    "num.div(1,0)"
   ]
  },
  {
   "cell_type": "code",
   "execution_count": 47,
   "metadata": {},
   "outputs": [
    {
     "name": "stdout",
     "output_type": "stream",
     "text": [
      "(1.000000 + 2.000000) * 1.000000 = 3.000000\n",
      "(1.000000 + 2.000000) * 10.000000 = 30.000000\n",
      "Scale is reset to 1.\n"
     ]
    }
   ],
   "source": [
    "class Calc:\n",
    "    \n",
    "    my_name = \"I'am Calc Module!\"\n",
    "    scale = 1 # 생성자에서 정의할 경우에 이곳에 선언해도 되고 안해도 됨\n",
    "\n",
    "    def __init__(self,scale=1):\n",
    "        self.scale = scale\n",
    "\n",
    "    def __del__(self):\n",
    "        self.scale =1\n",
    "        print(\"Scale is reset to 1.\")\n",
    "\n",
    "    def add(self, a, b):\n",
    "        result = (a + b)*self.scale\n",
    "        print(\"({0:f} + {1:f}) * {2:f} = {3:f}\".format(a,b,self.scale,result))\n",
    "    def sub(self, a, b):\n",
    "        result = (a - b)*self.scale\n",
    "        print(\"({0:f} - {1:f}) * {2:f} = {3:f}\".format(a,b,self.scale,result))\n",
    "    def mul(self, a, b):\n",
    "        result = (a * b)*self.scale\n",
    "        print(\"({0:f} * {1:f}) * {2:f} = {3:f}\".format(a,b,self.scale,result))\n",
    "    def div(self, a, b):\n",
    "        if b != 0:\n",
    "            result = (a / b)*self.scale\n",
    "            print(\"({0:f} / {1:f}) * {2:f} = {3:f}\".format(a,b,self.scale,result))\n",
    "        else:\n",
    "            print(\"Divided by zero!\")\n",
    "\n",
    "num1=Calc()\n",
    "num1.add(1,2)\n",
    "num2=Calc(10)\n",
    "num2.add(1,2)\n",
    "del(num2)"
   ]
  },
  {
   "cell_type": "code",
   "execution_count": 58,
   "metadata": {},
   "outputs": [
    {
     "name": "stdout",
     "output_type": "stream",
     "text": [
      "1.000000 + 2.000000 + 3.000000 + 4.000000 = 10.000000\n",
      "1.000000 - 2.000000 = -1.000000\n"
     ]
    }
   ],
   "source": [
    "class ParentCalc:\n",
    "    def add(self, a, b):\n",
    "        result = a + b\n",
    "        print(\"{0:f} + {1:f} = {2:f}\".format(a,b,result))\n",
    "    def sub(self, a, b):\n",
    "        result = a - b\n",
    "        print(\"{0:f} - {1:f} = {2:f}\".format(a,b,result))\n",
    "\n",
    "class ChildCalc(ParentCalc):\n",
    "    def add(self, *a):\n",
    "        s = \"{0:f}\".format(a[0])\n",
    "        for i in a[1:]:\n",
    "            s = s + \" + \" + \"{0:f}\".format(i)\n",
    "        result = sum(a)\n",
    "        print(\"{0:s} = {1:f}\".format(s,result))\n",
    "\n",
    "num=ChildCalc()\n",
    "num.add(1,2,3,4)\n",
    "num.sub(1,2)"
   ]
  },
  {
   "cell_type": "code",
   "execution_count": 94,
   "metadata": {},
   "outputs": [
    {
     "name": "stdout",
     "output_type": "stream",
     "text": [
      "Public ParentCalc\n",
      "Private ParentCalc\n",
      "\n",
      "Public ParentCalc\n",
      "Public ChildCalc\n"
     ]
    },
    {
     "ename": "AttributeError",
     "evalue": "'super' object has no attribute '_ChildCalc__my_name'",
     "output_type": "error",
     "traceback": [
      "\u001b[1;31m---------------------------------------------------------------------------\u001b[0m",
      "\u001b[1;31mAttributeError\u001b[0m                            Traceback (most recent call last)",
      "\u001b[1;32m<ipython-input-94-d94fb3964ce8>\u001b[0m in \u001b[0;36m<module>\u001b[1;34m\u001b[0m\n\u001b[0;32m     18\u001b[0m \u001b[0mprint\u001b[0m\u001b[1;33m(\u001b[0m\u001b[1;34m\"\"\u001b[0m\u001b[1;33m)\u001b[0m\u001b[1;33m\u001b[0m\u001b[1;33m\u001b[0m\u001b[0m\n\u001b[0;32m     19\u001b[0m \u001b[0mnum2\u001b[0m\u001b[1;33m=\u001b[0m\u001b[0mChildCalc\u001b[0m\u001b[1;33m(\u001b[0m\u001b[1;33m)\u001b[0m\u001b[1;33m\u001b[0m\u001b[1;33m\u001b[0m\u001b[0m\n\u001b[1;32m---> 20\u001b[1;33m \u001b[0mnum2\u001b[0m\u001b[1;33m.\u001b[0m\u001b[0mshow_name\u001b[0m\u001b[1;33m(\u001b[0m\u001b[1;33m)\u001b[0m\u001b[1;33m\u001b[0m\u001b[1;33m\u001b[0m\u001b[0m\n\u001b[0m",
      "\u001b[1;32m<ipython-input-94-d94fb3964ce8>\u001b[0m in \u001b[0;36mshow_name\u001b[1;34m(self)\u001b[0m\n\u001b[0;32m     12\u001b[0m         \u001b[0mprint\u001b[0m\u001b[1;33m(\u001b[0m\u001b[0msuper\u001b[0m\u001b[1;33m(\u001b[0m\u001b[1;33m)\u001b[0m\u001b[1;33m.\u001b[0m\u001b[0mmy_name\u001b[0m\u001b[1;33m)\u001b[0m\u001b[1;33m\u001b[0m\u001b[1;33m\u001b[0m\u001b[0m\n\u001b[0;32m     13\u001b[0m         \u001b[0mprint\u001b[0m\u001b[1;33m(\u001b[0m\u001b[0mself\u001b[0m\u001b[1;33m.\u001b[0m\u001b[0mmy_name\u001b[0m\u001b[1;33m)\u001b[0m\u001b[1;33m\u001b[0m\u001b[1;33m\u001b[0m\u001b[0m\n\u001b[1;32m---> 14\u001b[1;33m         \u001b[0mprint\u001b[0m\u001b[1;33m(\u001b[0m\u001b[0msuper\u001b[0m\u001b[1;33m(\u001b[0m\u001b[1;33m)\u001b[0m\u001b[1;33m.\u001b[0m\u001b[0m__my_name\u001b[0m\u001b[1;33m)\u001b[0m\u001b[1;33m\u001b[0m\u001b[1;33m\u001b[0m\u001b[0m\n\u001b[0m\u001b[0;32m     15\u001b[0m \u001b[1;33m\u001b[0m\u001b[0m\n\u001b[0;32m     16\u001b[0m \u001b[0mnum1\u001b[0m\u001b[1;33m=\u001b[0m\u001b[0mParentCalc\u001b[0m\u001b[1;33m(\u001b[0m\u001b[1;33m)\u001b[0m\u001b[1;33m\u001b[0m\u001b[1;33m\u001b[0m\u001b[0m\n",
      "\u001b[1;31mAttributeError\u001b[0m: 'super' object has no attribute '_ChildCalc__my_name'"
     ]
    }
   ],
   "source": [
    "class ParentCalc:\n",
    "    my_name = \"Public ParentCalc\"\n",
    "    __my_name = \"Private ParentCalc\"\n",
    "    def show_name(self):\n",
    "        print(self.my_name)\n",
    "        print(self.__my_name)\n",
    "\n",
    "class ChildCalc(ParentCalc):\n",
    "    my_name = \"Public ChildCalc\"\n",
    "    __my_name = \"Private ChildCalc\"\n",
    "    def show_name(self):\n",
    "        print(super().my_name)\n",
    "        print(self.my_name)\n",
    "        print(super().__my_name)\n",
    "\n",
    "num1=ParentCalc()\n",
    "num1.show_name()\n",
    "print(\"\")\n",
    "num2=ChildCalc()\n",
    "num2.show_name()"
   ]
  },
  {
   "cell_type": "code",
   "execution_count": 100,
   "metadata": {},
   "outputs": [
    {
     "name": "stdout",
     "output_type": "stream",
     "text": [
      "(1,2)\n",
      "(3,4)\n",
      "(4,6)\n"
     ]
    }
   ],
   "source": [
    "class Point:\n",
    "    def __init__(self,x,y):\n",
    "        self.x=x\n",
    "        self.y=y\n",
    "    def __add__(self,other):\n",
    "        self.x += other.x\n",
    "        self.y += other.y\n",
    "        return self\n",
    "    def show(self):\n",
    "        print(\"({0:d},{1:d})\".format(self.x,self.y))\n",
    "\n",
    "a = Point(1,2)\n",
    "a.show()\n",
    "\n",
    "b = Point(3,4)\n",
    "b.show()\n",
    "\n",
    "a = a+b\n",
    "a.show()"
   ]
  },
  {
   "cell_type": "code",
   "execution_count": 109,
   "metadata": {},
   "outputs": [
    {
     "name": "stdout",
     "output_type": "stream",
     "text": [
      "num1=4\n",
      "num2=0\n",
      "division by zero\n",
      "The end!\n"
     ]
    }
   ],
   "source": [
    "num1 = int(input(\"num1=\"))\n",
    "num2 = int(input(\"num2=\"))\n",
    "try:\n",
    "    num3 = num1/num2\n",
    "    print(\"{0:d} / {1:d} = {2:f}\".format(num1,num2,num3))\n",
    "except ZeroDivisionError as e:\n",
    "    print(e)\n",
    "finally:\n",
    "    print(\"The end!\")"
   ]
  },
  {
   "cell_type": "code",
   "execution_count": 23,
   "metadata": {},
   "outputs": [
    {
     "name": "stdout",
     "output_type": "stream",
     "text": [
      "(1,2)\n",
      "(3,4)\n",
      "(2,3)\n",
      "(4,5)\n"
     ]
    }
   ],
   "source": [
    "class Point:\n",
    "    def __init__(self,x,y):\n",
    "        self.x = x\n",
    "        self.y = y\n",
    "    def move(self,dx,dy):\n",
    "        self.x += dx\n",
    "        self.y += dy\n",
    "    def show(self):\n",
    "        print(\"({0:d},{1:d})\".format(self.x,self.y))\n",
    "\n",
    "class Box(Point):\n",
    "    def __init__(self,p1,p2):\n",
    "        self.p1 = p1\n",
    "        self.p2 = p2\n",
    "    def move(self,dx,dy):\n",
    "        self.p1.move(dx,dy)\n",
    "        self.p2.move(dx,dy)\n",
    "    def show(self):\n",
    "        self.p1.show()\n",
    "        self.p2.show()\n",
    "\n",
    "p1 = Point(1,2)\n",
    "p1.show()\n",
    "p2 = Point(3,4)\n",
    "p2.show()\n",
    "\n",
    "b = Box(p1,p2)\n",
    "b.move(1,1)\n",
    "b.show()"
   ]
  },
  {
   "cell_type": "code",
   "execution_count": 26,
   "metadata": {},
   "outputs": [
    {
     "name": "stdout",
     "output_type": "stream",
     "text": [
      "<class 'list'> [1, 2, 3, 4]\n",
      "<class 'numpy.ndarray'> [1 2 3 4]\n"
     ]
    }
   ],
   "source": [
    "import numpy as np\n",
    "a = [1,2,3,4]\n",
    "print(type(a),a)\n",
    "\n",
    "b = np.array(a)\n",
    "print(type(b),b)"
   ]
  },
  {
   "cell_type": "code",
   "execution_count": 33,
   "metadata": {},
   "outputs": [
    {
     "name": "stdout",
     "output_type": "stream",
     "text": [
      "2 4 [2 3 4] [1 3]\n"
     ]
    }
   ],
   "source": [
    "import numpy as np\n",
    "a = np.array([1,2,3,4])\n",
    "print(a[1],a[-1],a[1:],a[::2])"
   ]
  },
  {
   "cell_type": "code",
   "execution_count": 34,
   "metadata": {},
   "outputs": [
    {
     "name": "stdout",
     "output_type": "stream",
     "text": [
      "[0 1 2 3 4 5 6 7 8 9]\n",
      "[1 3 5 7 9]\n",
      "[1.  1.1 1.2 1.3 1.4 1.5 1.6 1.7 1.8 1.9]\n"
     ]
    }
   ],
   "source": [
    "import numpy as np\n",
    "print(np.arange(10))\n",
    "print(np.arange(1,10,2))\n",
    "print(np.arange(1,2,0.1))"
   ]
  },
  {
   "cell_type": "code",
   "execution_count": 37,
   "metadata": {},
   "outputs": [
    {
     "name": "stdout",
     "output_type": "stream",
     "text": [
      "[0. 0.]\n",
      "[1. 1.]\n",
      "[[1. 0.]\n",
      " [0. 1.]]\n"
     ]
    }
   ],
   "source": [
    "import numpy as np\n",
    "print(np.zeros(2))\n",
    "print(np.ones(2))\n",
    "print(np.eye(2))"
   ]
  },
  {
   "cell_type": "code",
   "execution_count": 41,
   "metadata": {},
   "outputs": [
    {
     "name": "stdout",
     "output_type": "stream",
     "text": [
      "1.4142135623730951\n",
      "3.141592653589793\n",
      "1.0\n",
      "1.0\n"
     ]
    }
   ],
   "source": [
    "import numpy as np\n",
    "print(np.sqrt(2))\n",
    "print(np.pi)\n",
    "print(np.sin(np.pi/2))\n",
    "print(np.cos(0))"
   ]
  },
  {
   "cell_type": "code",
   "execution_count": 43,
   "metadata": {},
   "outputs": [
    {
     "name": "stdout",
     "output_type": "stream",
     "text": [
      "[0.46052375 0.85205319 0.97010211 0.93133171 0.51178033]\n",
      "[9 0 6 6 7]\n"
     ]
    }
   ],
   "source": [
    "import numpy as np\n",
    "print(np.random.rand(5))\n",
    "print(np.random.choice(10,5))"
   ]
  },
  {
   "cell_type": "code",
   "execution_count": 47,
   "metadata": {},
   "outputs": [
    {
     "name": "stdout",
     "output_type": "stream",
     "text": [
      "[[0 1 2 3 4]\n",
      " [5 6 7 8 9]]\n",
      "7\n",
      "3\n"
     ]
    }
   ],
   "source": [
    "import numpy as np\n",
    "a = np.arange(10).reshape(2,5)\n",
    "print(a)\n",
    "\n",
    "print(a[1,2])\n",
    "print(a[(0,3)])"
   ]
  },
  {
   "cell_type": "code",
   "execution_count": 49,
   "metadata": {
    "scrolled": true
   },
   "outputs": [
    {
     "name": "stdout",
     "output_type": "stream",
     "text": [
      "[[0 5 8]\n",
      " [4 6 7]]\n",
      "[[ 2 -1 -2]\n",
      " [ 2 -2  3]]\n",
      "[[-1  6 15]\n",
      " [ 3  8 10]]\n",
      "[[-1.          0.66666667  0.6       ]\n",
      " [ 3.          0.5         2.5       ]]\n"
     ]
    }
   ],
   "source": [
    "import numpy as np\n",
    "a = np.array([[1,2,3],[3,2,5]])\n",
    "b = np.array([[-1,3,5],[1,4,2]])\n",
    "print(a+b)\n",
    "print(a-b)\n",
    "print(a*b)\n",
    "print(a/b)"
   ]
  },
  {
   "cell_type": "code",
   "execution_count": 52,
   "metadata": {},
   "outputs": [
    {
     "name": "stdout",
     "output_type": "stream",
     "text": [
      "[[20 15]\n",
      " [28 21]]\n",
      "[[ 2 15 11]\n",
      " [ 0 14 14]\n",
      " [ 2 29 25]]\n"
     ]
    }
   ],
   "source": [
    "a = np.array([[1,2,3],[3,2,5]])\n",
    "b = np.array([[-1,3,5],[1,4,2]])\n",
    "\n",
    "c = np.dot(a,b.transpose())\n",
    "print(c)\n",
    "\n",
    "d = np.dot(a.T,b)\n",
    "print(d)"
   ]
  },
  {
   "cell_type": "code",
   "execution_count": 56,
   "metadata": {},
   "outputs": [
    {
     "name": "stdout",
     "output_type": "stream",
     "text": [
      "[2. 2. 2. 2. 2.]\n",
      "[-1. -1. -1. -1. -1.]\n"
     ]
    }
   ],
   "source": [
    "import numpy as np\n",
    "a = np.zeros(5)+2\n",
    "print(a)\n",
    "\n",
    "b = np.ones(5)-2\n",
    "print(b)"
   ]
  },
  {
   "cell_type": "code",
   "execution_count": 36,
   "metadata": {},
   "outputs": [
    {
     "name": "stdout",
     "output_type": "stream",
     "text": [
      "[-3 -2 -1  0  1  2]\n",
      "[ True  True  True False False False]\n",
      "[-3 -2 -1]\n",
      "[-3]\n"
     ]
    }
   ],
   "source": [
    "import numpy as np\n",
    "a = np.arange(-3,3)\n",
    "print(a)\n",
    "print(a<0)\n",
    "print(a[a<0])\n",
    "print(a[abs(a)>2])"
   ]
  },
  {
   "cell_type": "code",
   "execution_count": 58,
   "metadata": {},
   "outputs": [
    {
     "name": "stdout",
     "output_type": "stream",
     "text": [
      "       price       num\n",
      "m1  0.750011  0.751260\n",
      "m2  0.203087  0.284539\n",
      "m3  0.509435  0.501892 \n",
      "\n",
      "m1    0.751260\n",
      "m2    0.284539\n",
      "m3    0.501892\n",
      "Name: num, dtype: float64 \n",
      "\n",
      "m1     True\n",
      "m2    False\n",
      "m3     True\n",
      "Name: num, dtype: bool \n",
      "\n",
      "       price       num\n",
      "m1  0.750011  0.751260\n",
      "m3  0.509435  0.501892\n"
     ]
    }
   ],
   "source": [
    "import pandas as pd\n",
    "import numpy as np\n",
    "\n",
    "df = pd.DataFrame(np.random.rand(3,2), index=['m1','m2','m3'], columns=['price','num'])\n",
    "print(df,\"\\n\")\n",
    "print(df['num'],\"\\n\")\n",
    "print(df['num']>0.5,\"\\n\")\n",
    "df2 = df[df['num']>0.5]\n",
    "print(df2)"
   ]
  },
  {
   "cell_type": "code",
   "execution_count": 60,
   "metadata": {},
   "outputs": [
    {
     "data": {
      "text/html": [
       "<div>\n",
       "<style scoped>\n",
       "    .dataframe tbody tr th:only-of-type {\n",
       "        vertical-align: middle;\n",
       "    }\n",
       "\n",
       "    .dataframe tbody tr th {\n",
       "        vertical-align: top;\n",
       "    }\n",
       "\n",
       "    .dataframe thead th {\n",
       "        text-align: right;\n",
       "    }\n",
       "</style>\n",
       "<table border=\"1\" class=\"dataframe\">\n",
       "  <thead>\n",
       "    <tr style=\"text-align: right;\">\n",
       "      <th></th>\n",
       "      <th>m1</th>\n",
       "      <th>m2</th>\n",
       "      <th>m3</th>\n",
       "    </tr>\n",
       "  </thead>\n",
       "  <tbody>\n",
       "    <tr>\n",
       "      <th>price</th>\n",
       "      <td>0.904118</td>\n",
       "      <td>0.476335</td>\n",
       "      <td>0.822137</td>\n",
       "    </tr>\n",
       "    <tr>\n",
       "      <th>num</th>\n",
       "      <td>0.189782</td>\n",
       "      <td>0.831404</td>\n",
       "      <td>0.386362</td>\n",
       "    </tr>\n",
       "  </tbody>\n",
       "</table>\n",
       "</div>"
      ],
      "text/plain": [
       "             m1        m2        m3\n",
       "price  0.904118  0.476335  0.822137\n",
       "num    0.189782  0.831404  0.386362"
      ]
     },
     "execution_count": 60,
     "metadata": {},
     "output_type": "execute_result"
    }
   ],
   "source": [
    "import pandas as pd\n",
    "import numpy as np\n",
    "\n",
    "df = pd.DataFrame(np.random.rand(3,2), index=['m1','m2','m3'], columns=['price','num'])\n",
    "df.T"
   ]
  },
  {
   "cell_type": "code",
   "execution_count": 63,
   "metadata": {},
   "outputs": [
    {
     "data": {
      "text/html": [
       "<div>\n",
       "<style scoped>\n",
       "    .dataframe tbody tr th:only-of-type {\n",
       "        vertical-align: middle;\n",
       "    }\n",
       "\n",
       "    .dataframe tbody tr th {\n",
       "        vertical-align: top;\n",
       "    }\n",
       "\n",
       "    .dataframe thead th {\n",
       "        text-align: right;\n",
       "    }\n",
       "</style>\n",
       "<table border=\"1\" class=\"dataframe\">\n",
       "  <thead>\n",
       "    <tr style=\"text-align: right;\">\n",
       "      <th></th>\n",
       "      <th>price</th>\n",
       "      <th>num</th>\n",
       "      <th>rate</th>\n",
       "    </tr>\n",
       "  </thead>\n",
       "  <tbody>\n",
       "    <tr>\n",
       "      <th>m1</th>\n",
       "      <td>0.491638</td>\n",
       "      <td>0.569993</td>\n",
       "      <td>0.862532</td>\n",
       "    </tr>\n",
       "    <tr>\n",
       "      <th>m2</th>\n",
       "      <td>0.872091</td>\n",
       "      <td>0.088513</td>\n",
       "      <td>9.852718</td>\n",
       "    </tr>\n",
       "    <tr>\n",
       "      <th>m3</th>\n",
       "      <td>0.483693</td>\n",
       "      <td>0.192865</td>\n",
       "      <td>2.507937</td>\n",
       "    </tr>\n",
       "  </tbody>\n",
       "</table>\n",
       "</div>"
      ],
      "text/plain": [
       "       price       num      rate\n",
       "m1  0.491638  0.569993  0.862532\n",
       "m2  0.872091  0.088513  9.852718\n",
       "m3  0.483693  0.192865  2.507937"
      ]
     },
     "execution_count": 63,
     "metadata": {},
     "output_type": "execute_result"
    }
   ],
   "source": [
    "import pandas as pd\n",
    "import numpy as np\n",
    "\n",
    "df = pd.DataFrame(np.random.rand(3,2), index=['m1','m2','m3'], columns=['price','num'])\n",
    "df['rate']=df['price']/df['num']\n",
    "df"
   ]
  },
  {
   "cell_type": "code",
   "execution_count": 65,
   "metadata": {},
   "outputs": [
    {
     "data": {
      "text/html": [
       "<div>\n",
       "<style scoped>\n",
       "    .dataframe tbody tr th:only-of-type {\n",
       "        vertical-align: middle;\n",
       "    }\n",
       "\n",
       "    .dataframe tbody tr th {\n",
       "        vertical-align: top;\n",
       "    }\n",
       "\n",
       "    .dataframe thead th {\n",
       "        text-align: right;\n",
       "    }\n",
       "</style>\n",
       "<table border=\"1\" class=\"dataframe\">\n",
       "  <thead>\n",
       "    <tr style=\"text-align: right;\">\n",
       "      <th></th>\n",
       "      <th>price</th>\n",
       "      <th>num</th>\n",
       "      <th>sum</th>\n",
       "    </tr>\n",
       "  </thead>\n",
       "  <tbody>\n",
       "    <tr>\n",
       "      <th>m1</th>\n",
       "      <td>0.595230</td>\n",
       "      <td>0.735220</td>\n",
       "      <td>1.330449</td>\n",
       "    </tr>\n",
       "    <tr>\n",
       "      <th>m2</th>\n",
       "      <td>0.938623</td>\n",
       "      <td>0.307734</td>\n",
       "      <td>1.246357</td>\n",
       "    </tr>\n",
       "    <tr>\n",
       "      <th>m3</th>\n",
       "      <td>0.187889</td>\n",
       "      <td>0.390732</td>\n",
       "      <td>0.578621</td>\n",
       "    </tr>\n",
       "  </tbody>\n",
       "</table>\n",
       "</div>"
      ],
      "text/plain": [
       "       price       num       sum\n",
       "m1  0.595230  0.735220  1.330449\n",
       "m2  0.938623  0.307734  1.246357\n",
       "m3  0.187889  0.390732  0.578621"
      ]
     },
     "execution_count": 65,
     "metadata": {},
     "output_type": "execute_result"
    }
   ],
   "source": [
    "import pandas as pd\n",
    "import numpy as np\n",
    "\n",
    "df = pd.DataFrame(np.random.rand(3,2), index=['m1','m2','m3'], columns=['price','num'])\n",
    "df['sum']=np.sum(df, axis=1)\n",
    "df"
   ]
  },
  {
   "cell_type": "code",
   "execution_count": 68,
   "metadata": {},
   "outputs": [
    {
     "name": "stdout",
     "output_type": "stream",
     "text": [
      "doc1=0.58\n",
      "doc2=0.87\n",
      "doc3=0.67\n"
     ]
    }
   ],
   "source": [
    "import numpy as np\n",
    "\n",
    "docs = np.array([[1,1,0,1,0,1],[1,1,1,0,1,0],[1,1,0,1,0,0]])\n",
    "query = np.array([1,1,0,0,1,0])\n",
    "\n",
    "q_size = np.sqrt(np.dot(query,query.transpose()))\n",
    "\n",
    "for i, d in enumerate(docs[:]):\n",
    "    d_size = np.sqrt(np.dot(d,d.transpose()))\n",
    "    s = np.dot(d,query)/(d_size*q_size)\n",
    "    print(\"doc{0:d}={1:.2f}\".format(i+1,s))"
   ]
  },
  {
   "cell_type": "code",
   "execution_count": 87,
   "metadata": {},
   "outputs": [
    {
     "data": {
      "text/html": [
       "<div>\n",
       "<style scoped>\n",
       "    .dataframe tbody tr th:only-of-type {\n",
       "        vertical-align: middle;\n",
       "    }\n",
       "\n",
       "    .dataframe tbody tr th {\n",
       "        vertical-align: top;\n",
       "    }\n",
       "\n",
       "    .dataframe thead th {\n",
       "        text-align: right;\n",
       "    }\n",
       "</style>\n",
       "<table border=\"1\" class=\"dataframe\">\n",
       "  <thead>\n",
       "    <tr style=\"text-align: right;\">\n",
       "      <th></th>\n",
       "      <th>unit price</th>\n",
       "      <th>number</th>\n",
       "      <th>total price</th>\n",
       "    </tr>\n",
       "  </thead>\n",
       "  <tbody>\n",
       "    <tr>\n",
       "      <th>store2</th>\n",
       "      <td>280</td>\n",
       "      <td>120</td>\n",
       "      <td>33600</td>\n",
       "    </tr>\n",
       "  </tbody>\n",
       "</table>\n",
       "</div>"
      ],
      "text/plain": [
       "        unit price  number  total price\n",
       "store2         280     120        33600"
      ]
     },
     "execution_count": 87,
     "metadata": {},
     "output_type": "execute_result"
    }
   ],
   "source": [
    "import pandas as pd\n",
    "import numpy as np\n",
    "\n",
    "values = [[1000,25],[280,120],[900,30]]\n",
    "df = pd.DataFrame(values, index=['store1','store2','store3'], columns=['unit price','number'])\n",
    "df['total price']=df['unit price']*df['number']\n",
    "max = np.max(df['total price'])\n",
    "df[df['total price'] == max]"
   ]
  },
  {
   "cell_type": "code",
   "execution_count": 63,
   "metadata": {},
   "outputs": [
    {
     "data": {
      "image/png": "[encoded data removed]",
      "text/plain": [
       "<Figure size 432x288 with 1 Axes>"
      ]
     },
     "metadata": {
      "needs_background": "light"
     },
     "output_type": "display_data"
    },
    {
     "data": {
      "image/png": "[encoded data removed]",
      "text/plain": [
       "<Figure size 432x288 with 1 Axes>"
      ]
     },
     "metadata": {
      "needs_background": "light"
     },
     "output_type": "display_data"
    },
    {
     "data": {
      "image/png": "[encoded data removed]",
      "text/plain": [
       "<Figure size 432x288 with 1 Axes>"
      ]
     },
     "metadata": {
      "needs_background": "light"
     },
     "output_type": "display_data"
    }
   ],
   "source": [
    "import matplotlib.pyplot as plt\n",
    "data = [1,2,3,4]\n",
    "plt.plot(data)\n",
    "plt.show()\n",
    "\n",
    "xdata = [1,2,3,4]\n",
    "ydata = [10,25,37,50]\n",
    "plt.bar(xdata,ydata)\n",
    "plt.show()\n",
    "\n",
    "plt.barh(xdata,ydata)\n",
    "plt.show()"
   ]
  },
  {
   "cell_type": "code",
   "execution_count": 75,
   "metadata": {},
   "outputs": [
    {
     "data": {
      "image/png": "[encoded data removed]",
      "text/plain": [
       "<Figure size 432x288 with 1 Axes>"
      ]
     },
     "metadata": {},
     "output_type": "display_data"
    },
    {
     "data": {
      "image/png": "[encoded data removed]",
      "text/plain": [
       "<Figure size 432x288 with 1 Axes>"
      ]
     },
     "metadata": {
      "needs_background": "light"
     },
     "output_type": "display_data"
    }
   ],
   "source": [
    "import matplotlib.pyplot as plt\n",
    "data = [10,20,30]\n",
    "plt.pie(data)\n",
    "plt.show()\n",
    "\n",
    "xdata = [1,2,3,4]\n",
    "ydata = [10,40,20,30]\n",
    "plt.scatter(xdata,ydata)\n",
    "plt.show()"
   ]
  },
  {
   "cell_type": "code",
   "execution_count": 70,
   "metadata": {},
   "outputs": [
    {
     "data": {
      "image/png": "[encoded data removed]",
      "text/plain": [
       "<Figure size 432x288 with 1 Axes>"
      ]
     },
     "metadata": {
      "needs_background": "light"
     },
     "output_type": "display_data"
    }
   ],
   "source": [
    "import matplotlib.pyplot as plt\n",
    "data1 = [1,2,3,4]\n",
    "data2 = [4,3,1,1]\n",
    "\n",
    "plt.title('plot graph')\n",
    "plt.plot(data1,'r.',label='circle')\n",
    "plt.plot(data2,'g^',label='triangle')\n",
    "plt.legend()\n",
    "plt.show()"
   ]
  },
  {
   "cell_type": "code",
   "execution_count": 84,
   "metadata": {},
   "outputs": [
    {
     "data": {
      "image/png": "[encoded data removed]",
      "text/plain": [
       "<Figure size 432x288 with 1 Axes>"
      ]
     },
     "metadata": {},
     "output_type": "display_data"
    }
   ],
   "source": [
    "import matplotlib.pyplot as plt\n",
    "data = [10,30,20,45]\n",
    "label = ['A','B','C','D']\n",
    "color = ['hotpink', 'darkmagenta', 'pink', 'deeppink']\n",
    "\n",
    "plt.pie(data,labels=label,autopct='%.1f%%', colors=color, explode=(0,0,0.1,0))\n",
    "plt.legend()\n",
    "plt.show()"
   ]
  },
  {
   "cell_type": "code",
   "execution_count": 88,
   "metadata": {},
   "outputs": [
    {
     "data": {
      "image/png": "[encoded data removed]",
      "text/plain": [
       "<Figure size 432x288 with 2 Axes>"
      ]
     },
     "metadata": {
      "needs_background": "light"
     },
     "output_type": "display_data"
    }
   ],
   "source": [
    "import matplotlib.pyplot as plt\n",
    "xdata = [1,2,3,4]\n",
    "ydata = [10,40,20,30]\n",
    "sizes = [10,50,100,200]\n",
    "\n",
    "plt.scatter(xdata,ydata,s=sizes,c=range(4),cmap='jet')\n",
    "plt.colorbar()\n",
    "plt.show()"
   ]
  },
  {
   "cell_type": "code",
   "execution_count": 89,
   "metadata": {},
   "outputs": [
    {
     "data": {
      "image/png": "[encoded data removed]",
      "text/plain": [
       "<Figure size 432x288 with 1 Axes>"
      ]
     },
     "metadata": {
      "needs_background": "light"
     },
     "output_type": "display_data"
    }
   ],
   "source": [
    "import matplotlib.pyplot as plt\n",
    "import numpy as np\n",
    "\n",
    "a = np.arange(-np.pi, np.pi, np.pi/100)\n",
    "plt.plot(a, np.sin(a))\n",
    "plt.show()"
   ]
  },
  {
   "cell_type": "code",
   "execution_count": 115,
   "metadata": {},
   "outputs": [
    {
     "data": {
      "image/png": "[encoded data removed]",
      "text/plain": [
       "<Figure size 432x288 with 1 Axes>"
      ]
     },
     "metadata": {
      "needs_background": "light"
     },
     "output_type": "display_data"
    }
   ],
   "source": [
    "import numpy as np\n",
    "import matplotlib.pyplot as plt\n",
    "\n",
    "docs = np.array([[1,1,0,1,0,1],[1,1,1,0,1,0],[1,1,0,1,0,0]])\n",
    "query = np.array([1,1,0,0,1,0])\n",
    "\n",
    "q_size = np.sqrt(np.dot(query,query.transpose()))\n",
    "sim = []\n",
    "\n",
    "i = 1\n",
    "xdata = []\n",
    "\n",
    "for d in docs[:]:\n",
    "    d_size = np.sqrt(np.dot(d,d.transpose()))\n",
    "    s = np.dot(d,query)/(d_size*q_size)\n",
    "    sim.append(s)\n",
    "    xdata.append(\"doc{0:d}={1:.2f}\".format(i,s))\n",
    "\n",
    "plt.title(\"Cosine similarities\")\n",
    "plt.bar(xdata,sim)\n",
    "plt.show()"
   ]
  },
  {
   "cell_type": "code",
   "execution_count": null,
   "metadata": {},
   "outputs": [],
   "source": [
    "import csv\n",
    "f = open('data.csv','r',encoding='cp949')\n",
    "data = csv.reader(f,delimiter=',')\n",
    "print(data)\n",
    "f.close()"
   ]
  },
  {
   "cell_type": "code",
   "execution_count": null,
   "metadata": {},
   "outputs": [],
   "source": [
    "import csv\n",
    "f = open('data.csv','r',encoding='cp949')\n",
    "data = csv.reader(f)\n",
    "for row in data:\n",
    "    print(row)\n",
    "f.close()"
   ]
  },
  {
   "cell_type": "code",
   "execution_count": null,
   "metadata": {},
   "outputs": [],
   "source": []
  }
 ],
 "metadata": {
  "kernelspec": {
   "display_name": "Python 3",
   "language": "python",
   "name": "python3"
  },
  "language_info": {
   "codemirror_mode": {
    "name": "ipython",
    "version": 3
   },
   "file_extension": ".py",
   "mimetype": "text/x-python",
   "name": "python",
   "nbconvert_exporter": "python",
   "pygments_lexer": "ipython3",
   "version": "3.8.5"
  }
 },
 "nbformat": 4,
 "nbformat_minor": 4
}
