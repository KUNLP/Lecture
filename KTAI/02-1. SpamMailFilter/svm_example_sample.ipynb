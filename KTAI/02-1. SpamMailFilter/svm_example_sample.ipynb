{
 "cells": [
  {
   "cell_type": "markdown",
   "metadata": {
    "id": "qbltlYE_x4ZX"
   },
   "source": [
    "<h2>개인 구글 드라이브와 colab 연동</h2>"
   ]
  },
  {
   "cell_type": "code",
   "execution_count": 1,
   "metadata": {
    "id": "j6q5Z9pNGA0M",
    "colab": {
     "base_uri": "https://localhost:8080/"
    },
    "executionInfo": {
     "status": "ok",
     "timestamp": 1.689514257321E12,
     "user_tz": -540.0,
     "elapsed": 22356.0,
     "user": {
      "displayName": "YJ JJ",
      "userId": "16685945690070219700"
     }
    },
    "outputId": "c55b060d-70ab-4138-caad-821068c952aa"
   },
   "outputs": [
    {
     "name": "stdout",
     "output_type": "stream",
     "text": [
      "Mounted at /gdrive\n"
     ]
    }
   ],
   "source": [
    "from google.colab import drive\n",
    "drive.mount(\"/gdrive\", force_remount=True)\n",
    "file_path = \"/gdrive/MyDrive/02-1.SpamMailFilter\"\n"
   ]
  },
  {
   "cell_type": "markdown",
   "metadata": {
    "id": "PlXCd1UpzDLL"
   },
   "source": [
    "<h2>\"SMSSpamCollection\" 데이터를 읽고 문장과 정답을 분리하여 각 리스트에 저장</h2>\n",
    "\n",
    "<pre>\n",
    "<b>1. 데이터의 형태(SMSSpamCollection)</b>\n",
    "  라벨(스팸 또는 햄) \\t(tab) 문장\n",
    "  \n",
    "  위와 같은 형태로 저장되어 있음\n",
    "  \n",
    "  예시)\n",
    "    ham\\tGo until jurong point, crazy.. Available only in bugis n great world la e buffet... Cine there got amore wat...\n",
    "    spam\\tCustomer service annoncement. You have a New Years delivery waiting for you. Please call 07046744435 now to arrange delivery\n",
    "    ...\n",
    "  \n",
    "  따라서 입력 데이터를 읽고 \\t을 기준으로 입력 문장을 분리한 후에 문장과 라벨을 각각 x_data, y_data 리스트에 저장\n",
    "\n",
    "<b>2. x_data, y_data 형태</b>\n",
    "  x_data = [ 문장1, 문장2, 문장3, ... ]\n",
    "  y_data = [ 문장1의 라벨, 문장2의 라벨, 문장3의 라벨, ... ]\n",
    "</pre>"
   ]
  },
  {
   "cell_type": "code",
   "execution_count": 2,
   "metadata": {
    "id": "gUuFzwfHGFrq",
    "colab": {
     "base_uri": "https://localhost:8080/"
    },
    "executionInfo": {
     "status": "ok",
     "timestamp": 1.689514261697E12,
     "user_tz": -540.0,
     "elapsed": 681.0,
     "user": {
      "displayName": "YJ JJ",
      "userId": "16685945690070219700"
     }
    },
    "outputId": "a26c95b5-05ce-4768-e3d7-e58148974821"
   },
   "outputs": [
    {
     "name": "stdout",
     "output_type": "stream",
     "text": [
      "x_data의 개수 : 1500\n",
      "y_data의 개수 : 1500\n"
     ]
    }
   ],
   "source": [
    "\n",
    "# 파일 읽기\n",
    "with open(file_path,'r',encoding='utf8') as inFile:\n",
    "  lines = inFile.readlines()\n",
    "\n",
    "x_data, y_data = [], []\n",
    "for line in lines:\n",
    "  pieces = line.strip().split('\\t')\n",
    "  label, sentence = pieces[0], pieces[1]\n",
    "\n",
    "  x_data.append(sentence)\n",
    "  y_data.append(label)\n",
    "\n",
    "print(\"x_data의 개수 : {}\".format(len(x_data)))\n",
    "print(\"y_data의 개수 : {}\".format(len(y_data)))"
   ]
  },
  {
   "cell_type": "code",
   "execution_count": 3,
   "metadata": {
    "colab": {
     "base_uri": "https://localhost:8080/"
    },
    "id": "uQaALKcJjfku",
    "executionInfo": {
     "status": "ok",
     "timestamp": 1.689514264434E12,
     "user_tz": -540.0,
     "elapsed": 2738.0,
     "user": {
      "displayName": "YJ JJ",
      "userId": "16685945690070219700"
     }
    },
    "outputId": "301a248a-7c1a-4778-f1f1-6db9bf0c5a7a"
   },
   "outputs": [
    {
     "name": "stdout",
     "output_type": "stream",
     "text": [
      "2.12.0\n",
      "2.12.0\n"
     ]
    }
   ],
   "source": [
    "import keras\n",
    "print(keras.__version__)\n",
    "import tensorflow\n",
    "print(tensorflow.__version__)"
   ]
  },
  {
   "cell_type": "markdown",
   "metadata": {
    "id": "3R9OE2Cp1jRX"
   },
   "source": [
    "<h2>Tokenizer 라이브러리를 사용하여 입력 문장을 index로 치환</h2>\n",
    "\n",
    "<pre>\n",
    "<b>1. tokenizer.fit_on_texts(data) 함수를 이용하여 각 단어를 index로 치환하기 위한 딕셔너리 생성</b>\n",
    "   생성된 딕셔너리는 tokenizer 객체 안에 저장됨\n",
    "  \n",
    "  tokenizer.fit_on_texts(data)\n",
    "  args\n",
    "    data : 문자열 element를 가지고 있는 리스트\n",
    "  return\n",
    "    X\n",
    "    \n",
    "  딕셔너리 예시)\n",
    "    {'to': 0, 'i': 1, 'you': 2, 'a': 3, 'the': 4, 'and': 5, 'for': 6 ... }\n",
    "    \n",
    "<b>2. tokenizer.texts_to_matrix(data) 함수를 이용하여 각 단어를 one-hot 벡터로 표현하며 문장은 각 단어의 one-hot 벡터의 합으로 표현</b>\n",
    "\n",
    "  tokenizer.texts_to_sequences(data)\n",
    "  args\n",
    "    data : 문자열 element를 가지고 있는 리스트\n",
    "  return :\n",
    "    indexing 된 리스트\n",
    "\n",
    "  예시)\n",
    "    전체 단어 사전 : {'i': 0, 'am': 1, 'happy': 2, 'sad': 3}\n",
    "    i     : [1, 0, 0, 0]\n",
    "    am    : [0, 1, 0, 0]\n",
    "    happy : [0, 0, 1, 0]\n",
    "    sad   : [0, 0, 0, 1]\n",
    "    \n",
    "    문장 1 : i am happy   -> [1, 1, 1, 0]\n",
    "    문장 2 : i am sad     -> [1, 1, 0, 1]\n",
    "    문장 3 : i am sad sad -> [1, 1, 0, 2]\n",
    "    \n",
    "  indexing 예시)\n",
    "    x_data indexing 하기 전 : Go until jurong point, crazy.. Available only in bugis n great world la e buffet... Cine there got amore wat...\n",
    "    x_data indexing 하기 후 : [0.0, 0.0, 0.0, 0.0, 0.0, 0.0, 0.0, 0.0, 1.0, 0.0, 0.0, 0.0, 0.0, 0.0, 0.0, 0.0, 0.0, 0.0, 0.0, 0.0, 0.0, 0.0, 0.0, 0.0, 0.0, 0.0, 0.0, 0.0, 0.0, 0.0, 0.0, 0.0, 0.0, 0.0, 0.0, 0.0, 0.0, 0.0, 0.0, 0.0, 0.0, 0.0, 0.0, 0.0, 1.0, 0.0, 0.0, 0.0, 0.0, 0.0, 0.0, 0.0, 0.0, 0.0, 1.0, 0.0, 0.0, 0.0, 0.0, 0.0, 0.0, 0.0, 0.0, 1.0, 0.0, 0.0, 0.0, 0.0, 1.0, 0.0, 0.0, 0.0, 0.0, 0.0, 0.0, 0.0, 0.0, 0.0, 0.0, 0.0, 0.0, 0.0, 0.0, 0.0, 0.0, 0.0, 0.0, 0.0, 0.0, 1.0, 0.0, 0.0, 0.0, 0.0, 0.0, 0.0, 0.0, 0.0, 0.0, 0.0, 0.0, 0.0, 0.0, 0.0, 0.0, 0.0, 0.0, 0.0, 0.0, 0.0, 0.0, 0.0, 0.0, 0.0, 0.0, 0.0, 0.0, 0.0, 0.0, 1.0, 0.0, 0.0, 0.0, 0.0, 0.0, 0.0, 0.0, 1.0, 0.0, 0.0, 0.0, 0.0, 0.0, 0.0, 0.0, 0.0, 0.0, 0.0, 0.0, 0.0, 0.0, 0.0, 0.0, 0.0, 0.0, 0.0, 0.0, 0.0, 0.0, 0.0, 0.0, 0.0, 0.0, 0.0, 0.0, 0.0, 0.0, 0.0, 0.0, 0.0, 0.0, 0.0, 0.0, 0.0, 0.0, 0.0, 0.0, 0.0, 0.0, 0.0, 0.0, 0.0, 0.0, 0.0, 0.0, 0.0, 0.0, 0.0, 0.0, 0.0, 0.0, 0.0, 0.0, 0.0, 0.0, 0.0, 0.0, 0.0, 0.0, 0.0, 0.0, 0.0, 0.0, 0.0, 0.0, 0.0, 0.0, 0.0, 0.0, 0.0, 0.0, 0.0, 0.0, 0.0, 0.0, 0.0, 0.0, 0.0, 0.0, 0.0, 0.0, 0.0, 0.0, 0.0, 0.0, 0.0, 0.0, 0.0, 0.0, 1.0, 0.0, 0.0, 0.0, 0.0, 0.0, 0.0, 0.0, 0.0, 0.0, 0.0, 0.0, 0.0, 0.0, 0.0, 0.0, 0.0, 0.0, 0.0, 0.0, 0.0, 0.0, 0.0, 0.0, 0.0, 0.0, 0.0, 0.0, 0.0, 0.0, 0.0, 0.0, 0.0, 0.0, 0.0, 0.0, 0.0, 0.0, 0.0, 0.0, 1.0, 0.0, 0.0, 0.0, 0.0, 0.0, 0.0, 0.0, 0.0, 0.0, 0.0, 0.0, 0.0, 0.0, 0.0, 0.0, 0.0, 0.0, 0.0, 0.0, 0.0, 0.0, 0.0, 0.0, 0.0, 0.0, 0.0, 0.0, 0.0, 0.0, 0.0, 0.0, 0.0, 0.0, 0.0, 0.0, 0.0, 0.0, 0.0, 0.0, 0.0]\n",
    "    y_data indexing 하기 전 : ham\n",
    "    y_data indexing 하기 후 : 1\n",
    "</pre>"
   ]
  },
  {
   "cell_type": "code",
   "execution_count": 4,
   "metadata": {
    "id": "YEagO2Q0GOBM",
    "colab": {
     "base_uri": "https://localhost:8080/"
    },
    "executionInfo": {
     "status": "ok",
     "timestamp": 1.689514264956E12,
     "user_tz": -540.0,
     "elapsed": 524.0,
     "user": {
      "displayName": "YJ JJ",
      "userId": "16685945690070219700"
     }
    },
    "outputId": "7c774cf8-b6dd-4c7b-f2db-8b985bf4e3f5"
   },
   "outputs": [
    {
     "name": "stdout",
     "output_type": "stream",
     "text": [
      "x_data indexing 하기 전 : Go until jurong point, crazy.. Available only in bugis n great world la e buffet... Cine there got amore wat...\n",
      "x_data indexing 하기 후 : [0.0, 0.0, 0.0, 0.0, 0.0, 0.0, 0.0, 0.0, 1.0, 0.0, 0.0, 0.0, 0.0, 0.0, 0.0, 0.0, 0.0, 0.0, 0.0, 0.0, 0.0, 0.0, 0.0, 0.0, 0.0, 0.0, 0.0, 0.0, 0.0, 0.0, 0.0, 0.0, 0.0, 0.0, 0.0, 0.0, 0.0, 0.0, 0.0, 0.0, 0.0, 0.0, 0.0, 0.0, 1.0, 0.0, 0.0, 0.0, 0.0, 0.0, 0.0, 0.0, 0.0, 0.0, 1.0, 0.0, 0.0, 0.0, 0.0, 0.0, 0.0, 0.0, 0.0, 1.0, 0.0, 0.0, 0.0, 0.0, 1.0, 0.0, 0.0, 0.0, 0.0, 0.0, 0.0, 0.0, 0.0, 0.0, 0.0, 0.0, 0.0, 0.0, 0.0, 0.0, 0.0, 0.0, 0.0, 0.0, 0.0, 1.0, 0.0, 0.0, 0.0, 0.0, 0.0, 0.0, 0.0, 0.0, 0.0, 0.0, 0.0, 0.0, 0.0, 0.0, 0.0, 0.0, 0.0, 0.0, 0.0, 0.0, 0.0, 0.0, 0.0, 0.0, 0.0, 0.0, 0.0, 0.0, 0.0, 1.0, 0.0, 0.0, 0.0, 0.0, 0.0, 0.0, 0.0, 1.0, 0.0, 0.0, 0.0, 0.0, 0.0, 0.0, 0.0, 0.0, 0.0, 0.0, 0.0, 0.0, 0.0, 0.0, 0.0, 0.0, 0.0, 0.0, 0.0, 0.0, 0.0, 0.0, 0.0, 0.0, 0.0, 0.0, 0.0, 0.0, 0.0, 0.0, 0.0, 0.0, 0.0, 0.0, 0.0, 0.0, 0.0, 0.0, 0.0, 0.0, 0.0, 0.0, 0.0, 0.0, 0.0, 0.0, 0.0, 0.0, 0.0, 0.0, 0.0, 0.0, 0.0, 0.0, 0.0, 0.0, 0.0, 0.0, 0.0, 0.0, 0.0, 0.0, 0.0, 0.0, 0.0, 0.0, 0.0, 0.0, 0.0, 0.0, 0.0, 0.0]\n",
      "y_data indexing 하기 전 : ham\n",
      "y_data indexing 하기 후 : 1\n"
     ]
    }
   ],
   "source": [
    "from keras.preprocessing.text import Tokenizer\n",
    "\n",
    "\n",
    "# spam, ham 라벨을 대응하는 index로 치환하기위한 딕셔너리\n",
    "label2index = {'spam':0, 'ham':1}\n",
    "index2label = {0:\"spam\", 1:\"ham\"}\n",
    "\n",
    "# indexing 한 데이터를 넣을 리스트 선언\n",
    "indexing_x_data, indexing_y_data = [], []\n",
    "\n",
    "for label in y_data:\n",
    "  indexing_y_data.append(label2index[label])\n",
    "\n",
    "tokenizer = Tokenizer(num_words=200)\n",
    "\n",
    "# x_data를 사용하여 딕셔너리 생성\n",
    "tokenizer.fit_on_texts(x_data)\n",
    "\n",
    "# x_data에 있는 각 문장들을 one-hot 벡터의 합으로 치환하고 그 결과값을 indexing_x_data에 저장\n",
    "indexing_x_data = tokenizer.texts_to_matrix(x_data).tolist()\n",
    "\n",
    "print(\"x_data indexing 하기 전 : {}\".format(x_data[0]))\n",
    "print(\"x_data indexing 하기 후 : {}\".format(indexing_x_data[0]))\n",
    "print(\"y_data indexing 하기 전 : {}\".format(y_data[0]))\n",
    "print(\"y_data indexing 하기 후 : {}\".format(indexing_y_data[0]))"
   ]
  },
  {
   "cell_type": "markdown",
   "metadata": {
    "id": "nN5GGyQI_IpT"
   },
   "source": [
    "<h2>SVM 모델 학습</h2>\n",
    "\n",
    "<pre>    \n",
    "<b>1. 입력 데이터를 9 대 1 비율로 나누어 학습, 평가에 사용</b>\n",
    "  \n",
    "<b>2. svm.fit(x, y) 함수를 사용하여 SVM 모델 학습</b>\n",
    "  svm.fit(x, y)\n",
    "  args\n",
    "    x : indexing 된 문장들이 있는 리스트\n",
    "    y : x의 각 문장에 대응하는 라벨이 있는 리스트\n",
    "  return :\n",
    "    X\n",
    "</pre>"
   ]
  },
  {
   "cell_type": "code",
   "execution_count": 5,
   "metadata": {
    "id": "RYNBrDnzGO-5",
    "colab": {
     "base_uri": "https://localhost:8080/"
    },
    "executionInfo": {
     "status": "ok",
     "timestamp": 1.689514264957E12,
     "user_tz": -540.0,
     "elapsed": 4.0,
     "user": {
      "displayName": "YJ JJ",
      "userId": "16685945690070219700"
     }
    },
    "outputId": "facce31a-2fab-4278-a633-52306f032bc9"
   },
   "outputs": [
    {
     "name": "stdout",
     "output_type": "stream",
     "text": [
      "train_x의 개수 : 1350\n",
      "train_y의 개수 : 1350\n",
      "test_x의 개수 : 150\n",
      "test_y의 개수 : 150\n"
     ]
    }
   ],
   "source": [
    "# 전체 데이터를 9:1의 비율로 나누어 학습 및 평가 데이터로 사용\n",
    "number_of_train_data = int(len(indexing_x_data)*0.9)\n",
    "\n",
    "train_x, train_y = indexing_x_data[:number_of_train_data], indexing_y_data[:number_of_train_data]\n",
    "test_x, test_y = indexing_x_data[number_of_train_data:], indexing_y_data[number_of_train_data:]\n",
    "\n",
    "print(\"train_x의 개수 : {}\".format(len(train_x)))\n",
    "print(\"train_y의 개수 : {}\".format(len(train_y)))\n",
    "print(\"test_x의 개수 : {}\".format(len(test_x)))\n",
    "print(\"test_y의 개수 : {}\".format(len(test_y)))\n"
   ]
  },
  {
   "cell_type": "code",
   "execution_count": 6,
   "metadata": {
    "colab": {
     "base_uri": "https://localhost:8080/",
     "height": 75.0
    },
    "id": "89GWJj2DgokV",
    "executionInfo": {
     "status": "ok",
     "timestamp": 1.689514266841E12,
     "user_tz": -540.0,
     "elapsed": 1251.0,
     "user": {
      "displayName": "YJ JJ",
      "userId": "16685945690070219700"
     }
    },
    "outputId": "498e816d-aeb3-4302-aa4a-16407d52ca6b"
   },
   "outputs": [
    {
     "data": {
      "text/html": [
       "<style>#sk-container-id-1 {color: black;background-color: white;}#sk-container-id-1 pre{padding: 0;}#sk-container-id-1 div.sk-toggleable {background-color: white;}#sk-container-id-1 label.sk-toggleable__label {cursor: pointer;display: block;width: 100%;margin-bottom: 0;padding: 0.3em;box-sizing: border-box;text-align: center;}#sk-container-id-1 label.sk-toggleable__label-arrow:before {content: \"▸\";float: left;margin-right: 0.25em;color: #696969;}#sk-container-id-1 label.sk-toggleable__label-arrow:hover:before {color: black;}#sk-container-id-1 div.sk-estimator:hover label.sk-toggleable__label-arrow:before {color: black;}#sk-container-id-1 div.sk-toggleable__content {max-height: 0;max-width: 0;overflow: hidden;text-align: left;background-color: #f0f8ff;}#sk-container-id-1 div.sk-toggleable__content pre {margin: 0.2em;color: black;border-radius: 0.25em;background-color: #f0f8ff;}#sk-container-id-1 input.sk-toggleable__control:checked~div.sk-toggleable__content {max-height: 200px;max-width: 100%;overflow: auto;}#sk-container-id-1 input.sk-toggleable__control:checked~label.sk-toggleable__label-arrow:before {content: \"▾\";}#sk-container-id-1 div.sk-estimator input.sk-toggleable__control:checked~label.sk-toggleable__label {background-color: #d4ebff;}#sk-container-id-1 div.sk-label input.sk-toggleable__control:checked~label.sk-toggleable__label {background-color: #d4ebff;}#sk-container-id-1 input.sk-hidden--visually {border: 0;clip: rect(1px 1px 1px 1px);clip: rect(1px, 1px, 1px, 1px);height: 1px;margin: -1px;overflow: hidden;padding: 0;position: absolute;width: 1px;}#sk-container-id-1 div.sk-estimator {font-family: monospace;background-color: #f0f8ff;border: 1px dotted black;border-radius: 0.25em;box-sizing: border-box;margin-bottom: 0.5em;}#sk-container-id-1 div.sk-estimator:hover {background-color: #d4ebff;}#sk-container-id-1 div.sk-parallel-item::after {content: \"\";width: 100%;border-bottom: 1px solid gray;flex-grow: 1;}#sk-container-id-1 div.sk-label:hover label.sk-toggleable__label {background-color: #d4ebff;}#sk-container-id-1 div.sk-serial::before {content: \"\";position: absolute;border-left: 1px solid gray;box-sizing: border-box;top: 0;bottom: 0;left: 50%;z-index: 0;}#sk-container-id-1 div.sk-serial {display: flex;flex-direction: column;align-items: center;background-color: white;padding-right: 0.2em;padding-left: 0.2em;position: relative;}#sk-container-id-1 div.sk-item {position: relative;z-index: 1;}#sk-container-id-1 div.sk-parallel {display: flex;align-items: stretch;justify-content: center;background-color: white;position: relative;}#sk-container-id-1 div.sk-item::before, #sk-container-id-1 div.sk-parallel-item::before {content: \"\";position: absolute;border-left: 1px solid gray;box-sizing: border-box;top: 0;bottom: 0;left: 50%;z-index: -1;}#sk-container-id-1 div.sk-parallel-item {display: flex;flex-direction: column;z-index: 1;position: relative;background-color: white;}#sk-container-id-1 div.sk-parallel-item:first-child::after {align-self: flex-end;width: 50%;}#sk-container-id-1 div.sk-parallel-item:last-child::after {align-self: flex-start;width: 50%;}#sk-container-id-1 div.sk-parallel-item:only-child::after {width: 0;}#sk-container-id-1 div.sk-dashed-wrapped {border: 1px dashed gray;margin: 0 0.4em 0.5em 0.4em;box-sizing: border-box;padding-bottom: 0.4em;background-color: white;}#sk-container-id-1 div.sk-label label {font-family: monospace;font-weight: bold;display: inline-block;line-height: 1.2em;}#sk-container-id-1 div.sk-label-container {text-align: center;}#sk-container-id-1 div.sk-container {/* jupyter's `normalize.less` sets `[hidden] { display: none; }` but bootstrap.min.css set `[hidden] { display: none !important; }` so we also need the `!important` here to be able to override the default hidden behavior on the sphinx rendered scikit-learn.org. See: https://github.com/scikit-learn/scikit-learn/issues/21755 */display: inline-block !important;position: relative;}#sk-container-id-1 div.sk-text-repr-fallback {display: none;}</style><div id=\"sk-container-id-1\" class=\"sk-top-container\"><div class=\"sk-text-repr-fallback\"><pre>SVC(C=0.01, kernel=&#x27;linear&#x27;)</pre><b>In a Jupyter environment, please rerun this cell to show the HTML representation or trust the notebook. <br />On GitHub, the HTML representation is unable to render, please try loading this page with nbviewer.org.</b></div><div class=\"sk-container\" hidden><div class=\"sk-item\"><div class=\"sk-estimator sk-toggleable\"><input class=\"sk-toggleable__control sk-hidden--visually\" id=\"sk-estimator-id-1\" type=\"checkbox\" checked><label for=\"sk-estimator-id-1\" class=\"sk-toggleable__label sk-toggleable__label-arrow\">SVC</label><div class=\"sk-toggleable__content\"><pre>SVC(C=0.01, kernel=&#x27;linear&#x27;)</pre></div></div></div></div></div>"
      ],
      "text/plain": [
       "SVC(C=0.01, kernel='linear')"
      ]
     },
     "execution_count": 6,
     "metadata": {},
     "output_type": "execute_result"
    }
   ],
   "source": [
    "from sklearn.svm import SVC\n",
    "svm = SVC(kernel='linear',C=0.01)\n",
    "svm.fit(train_x, train_y)"
   ]
  },
  {
   "cell_type": "markdown",
   "metadata": {
    "id": "l8Ez7hULOckE"
   },
   "source": [
    "<h2>SVM 모델을 이용한 평가</h2>\n",
    "\n",
    "<pre>\n",
    "<b>1. svm.predict(data) 함수를 사용하여 SVM 모델을 이용하여 평가</b>\n",
    "  \n",
    "  svm.predict(data)\n",
    "  args\n",
    "    data : indexing 된 문장들이 있는 리스트\n",
    "  return :\n",
    "    입력 문장들에 대한 모델의 출력 라벨 리스트\n",
    "    \n",
    "<b>2. 성능 측정</b>\n",
    "  정답 라벨과 모델의 출력 라벨을 비교하여 성능 측정\n",
    "  \n",
    "<b>3. tokenizer.sequences_to_texts(data) 함수를 이용하여 indexing 된 데이터를 단어로 치환</b>\n",
    "\n",
    "  tokenizer.sequences_to_texts(data)\n",
    "  args\n",
    "    data : indexing 된 리스트\n",
    "  return :\n",
    "    단어로 치환된 리스트\n",
    "    \n",
    "  예시)\n",
    "    [38, 93, 239, 240, 241, 242, 53, 11, 243, 72, 94, 244, 245, 126, 246, 247, 73, 74, 248, 127] -> Go until jurong point, crazy.. Available only in bugis n great world la e buffet... Cine there got amore wat...\n",
    "    \n",
    "<b>4. 입력 문장에 대한 모델의 출력과 정답 출력</b>\n",
    "\n",
    "</pre>"
   ]
  },
  {
   "cell_type": "code",
   "execution_count": 8,
   "metadata": {
    "id": "gONe3GnfGQcu",
    "colab": {
     "base_uri": "https://localhost:8080/"
    },
    "executionInfo": {
     "status": "ok",
     "timestamp": 1.689514275388E12,
     "user_tz": -540.0,
     "elapsed": 304.0,
     "user": {
      "displayName": "YJ JJ",
      "userId": "16685945690070219700"
     }
    },
    "outputId": "f0aa6335-de3b-4332-d3d4-97e5e8e2c846"
   },
   "outputs": [
    {
     "name": "stdout",
     "output_type": "stream",
     "text": [
      "Accuracy: 0.9333333333333333\n",
      "\n",
      "문장 : Go until jurong point, crazy.. Available only in bugis n great world la e buffet... Cine there got amore wat...\n",
      "정답 : spam\n",
      "모델 출력 : ham\n",
      "\n",
      "문장 : Ok lar... Joking wif u oni...\n",
      "정답 : ham\n",
      "모델 출력 : ham\n",
      "\n",
      "문장 : Free entry in 2 a wkly comp to win FA Cup final tkts 21st May 2005. Text FA to 87121 to receive entry question(std txt rate)T&C's apply 08452810075over18's\n",
      "정답 : ham\n",
      "모델 출력 : ham\n",
      "\n",
      "문장 : U dun say so early hor... U c already then say...\n",
      "정답 : ham\n",
      "모델 출력 : ham\n",
      "\n",
      "문장 : Nah I don't think he goes to usf, he lives around here though\n",
      "정답 : ham\n",
      "모델 출력 : ham\n"
     ]
    }
   ],
   "source": [
    "from sklearn.metrics import accuracy_score\n",
    "\n",
    "predict = svm.predict(test_x)\n",
    "accuracy = accuracy_score(test_y, predict)\n",
    "\n",
    "print(\"Accuracy: {}\".format(accuracy))\n",
    "\n",
    "for index in range(len(x_data[number_of_train_data:number_of_train_data+5])):\n",
    "  print()\n",
    "  print(\"문장 : {}\".format(x_data[index]))\n",
    "  print(\"정답 : {}\".format(index2label[test_y[index]]))\n",
    "  print(\"모델 출력 : {}\".format(index2label[predict[index]]))"
   ]
  },
  {
   "cell_type": "code",
   "execution_count": null,
   "metadata": {
    "id": "iXepAiUntILf",
    "colab": {
     "base_uri": "https://localhost:8080/"
    },
    "executionInfo": {
     "status": "ok",
     "timestamp": 1.654513850654E12,
     "user_tz": -540.0,
     "elapsed": 898.0,
     "user": {
      "displayName": "YJ JJ",
      "userId": "16685945690070219700"
     }
    },
    "outputId": "51b3b6cf-b77b-4181-f36c-b06bbb563aa0"
   },
   "outputs": [
    {
     "name": "stdout",
     "output_type": "stream",
     "text": [
      "#########################################################\n",
      "current Kernel Function : linear\n",
      "Accuracy: 95.33\n",
      "\n",
      "#########################################################\n",
      "current Kernel Function : poly\n",
      "Accuracy: 92.66\n",
      "\n",
      "#########################################################\n",
      "current Kernel Function : sigmoid\n",
      "Accuracy: 94.66\n",
      "\n",
      "#########################################################\n",
      "current Kernel Function : rbf\n",
      "Accuracy: 95.33\n",
      "\n"
     ]
    }
   ],
   "source": [
    "from sklearn.svm import SVC\n",
    "\n",
    "kernel_functions = ['linear', 'poly', 'sigmoid', 'rbf']\n",
    "for kernel_function in kernel_functions:\n",
    "  print(\"#########################################################\")\n",
    "  print(\"current Kernel Function : {}\".format(kernel_function))\n",
    "  svm = SVC(kernel=kernel_function)\n",
    "  svm.fit(train_x, train_y)\n",
    "  predict = svm.predict(test_x)\n",
    "  accuracy = accuracy_score(test_y, predict)\n",
    "\n",
    "  print(\"Accuracy: {}\\n\".format(str(accuracy*100)[:5]))\n"
   ]
  }
 ],
 "metadata": {
  "colab": {
   "provenance": []
  },
  "kernelspec": {
   "name": "python3",
   "display_name": "Python 3"
  }
 },
 "nbformat": 4,
 "nbformat_minor": 0
}
