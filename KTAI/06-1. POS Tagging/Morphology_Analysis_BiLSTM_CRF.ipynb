{
 "cells": [
  {
   "cell_type": "markdown",
   "metadata": {
    "id": "F24pbMKw8uT9"
   },
   "source": [
    "<h2>개인 구글 드라이브와 colab 연동</h2>"
   ]
  },
  {
   "cell_type": "code",
   "execution_count": null,
   "metadata": {
    "id": "4X-lNQfT1D1v",
    "colab": {
     "base_uri": "https://localhost:8080/"
    },
    "executionInfo": {
     "status": "ok",
     "timestamp": 1.676336457261E12,
     "user_tz": -540.0,
     "elapsed": 23753.0,
     "user": {
      "displayName": "최기현",
      "userId": "07435435166393705635"
     }
    },
    "outputId": "a6c1ccf6-08e8-487b-9b7b-3dd7f380d5ec"
   },
   "outputs": [
    {
     "name": "stdout",
     "output_type": "stream",
     "text": [
      "Mounted at /gdrive\n"
     ]
    }
   ],
   "source": [
    "from google.colab import drive\n",
    "drive.mount(\"/gdrive\", force_remount=True)"
   ]
  },
  {
   "cell_type": "code",
   "execution_count": null,
   "metadata": {
    "id": "92n_X_EYuxDB",
    "colab": {
     "base_uri": "https://localhost:8080/"
    },
    "executionInfo": {
     "status": "ok",
     "timestamp": 1.676336538928E12,
     "user_tz": -540.0,
     "elapsed": 5179.0,
     "user": {
      "displayName": "최기현",
      "userId": "07435435166393705635"
     }
    },
    "outputId": "aa715df4-4ba8-4fb1-8ac6-ec1efdf151b0"
   },
   "outputs": [
    {
     "name": "stdout",
     "output_type": "stream",
     "text": [
      "Looking in indexes: https://pypi.org/simple, https://us-python.pkg.dev/colab-wheels/public/simple/\n",
      "Requirement already satisfied: pytorch-crf in /usr/local/lib/python3.8/dist-packages (0.7.2)\n"
     ]
    }
   ],
   "source": [
    "!pip install pytorch-crf\n",
    "\n",
    "root_dir = \"/gdrive/My Drive/6-1.POSTagging\""
   ]
  },
  {
   "cell_type": "code",
   "execution_count": 21,
   "metadata": {
    "id": "sdbZmdUt-d8I",
    "colab": {
     "base_uri": "https://localhost:8080/",
     "height": 356.0
    },
    "executionInfo": {
     "status": "ok",
     "timestamp": 1.676337260966E12,
     "user_tz": -540.0,
     "elapsed": 563.0,
     "user": {
      "displayName": "최기현",
      "userId": "07435435166393705635"
     }
    },
    "outputId": "488aca47-652f-4fa7-b8b3-6a08ed968938"
   },
   "outputs": [
    {
     "data": {
      "image/png": "[encoded data removed]",
      "text/plain": [
       "<IPython.core.display.Image object>"
      ]
     },
     "execution_count": 21,
     "metadata": {},
     "output_type": "execute_result"
    }
   ],
   "source": [
    "import os\n",
    "\n",
    "from IPython.display import Image\n",
    "Image(os.path.join(root_dir, \"BiLSTM.png\"))"
   ]
  },
  {
   "cell_type": "markdown",
   "metadata": {
    "id": "YfWZLECjoJkn"
   },
   "source": [
    "<h2>BiLSTM_CRF 모델</h2>"
   ]
  },
  {
   "cell_type": "code",
   "execution_count": null,
   "metadata": {
    "id": "o5861idd25QB"
   },
   "outputs": [],
   "source": [
    "import torch.nn as nn\n",
    "from torchcrf import CRF\n",
    "\n",
    "\n",
    "class BiLSTM_CRF(nn.Module):\n",
    "\n",
    "    def __init__(self, config):\n",
    "        super(BiLSTM_CRF, self).__init__()\n",
    "\n",
    "        # 전체 음절 개수\n",
    "        self.eumjeol_vocab_size = config[\"eumjeol_vocab_size\"]\n",
    "\n",
    "        # 음절 임베딩 사이즈\n",
    "        self.embedding_size = config[\"embedding_size\"]\n",
    "\n",
    "        # LSTM 히든 사이즈\n",
    "        self.hidden_size = config[\"hidden_size\"]\n",
    "\n",
    "        # 분류할 태그의 개수\n",
    "        self.number_of_tags = config[\"number_of_tags\"]\n",
    "\n",
    "        # 입력 데이터에 있는 각 음절 index를 대응하는 임베딩 벡터로 치환해주기 위한 임베딩 객체\n",
    "        # 기존에 사전학습 된 음절 임베딩을 사용할 수도 있고 랜덤으로 초기화 한 후,\n",
    "        # 모델 학습 과정 중에 같이 학습 시키는 것도 가능\n",
    "        # 예제 코드는 랜덤으로 초기화 한 후 같이 학습하도록 설정\n",
    "        self.embedding = nn.Embedding(num_embeddings=self.eumjeol_vocab_size, embedding_dim=self.embedding_size,\n",
    "                                      padding_idx=0)\n",
    "\n",
    "        # Bi-LSTM layer\n",
    "        self.bi_lstm = nn.LSTM(input_size=self.embedding_size, hidden_size=self.hidden_size,\n",
    "                               num_layers=3, batch_first=True, dropout=config[\"dropout\"],\n",
    "                               bidirectional=True)\n",
    "\n",
    "        # fully_connected layer를 통하여 출력 크기를 number_of_tags에 맞춰줌\n",
    "        # (batch_size, max_length, hidden_size*2) -> (batch_size, max_length, number_of_tags)\n",
    "        self.hidden2num_tag = nn.Linear(in_features=self.hidden_size*2, out_features=self.number_of_tags)\n",
    "\n",
    "        # CRF layer\n",
    "        self.crf = CRF(num_tags=self.number_of_tags, batch_first=True)\n",
    "\n",
    "    def forward(self, inputs, labels=None):\n",
    "        # (batch_size, max_length) -> (batch_size, max_length, embedding_size)\n",
    "        eumjeol_inputs = self.embedding(inputs)\n",
    "\n",
    "        # hidden_outputs : (batch_size, max_length, hidden_size*2)\n",
    "        hidden_outputs, _ = self.bi_lstm(eumjeol_inputs)\n",
    "\n",
    "        # (batch_size, max_length, hidden_size*2) -> (batch_size, max_length, number_of_tags)\n",
    "        hidden_outputs = self.hidden2num_tag(hidden_outputs)\n",
    "\n",
    "        if(labels is not None):\n",
    "            log_likelihood = self.crf(emissions=hidden_outputs, tags=labels, reduction=\"mean\")\n",
    "            loss = log_likelihood * -1.0\n",
    "\n",
    "            return loss\n",
    "        else:\n",
    "            output = self.crf.decode(emissions=hidden_outputs)\n",
    "\n",
    "            return output"
   ]
  },
  {
   "cell_type": "markdown",
   "metadata": {
    "id": "caSL4RyA1OOm"
   },
   "source": [
    "<h2>데이터 읽고 전처리 하기</h2>\n",
    "\n",
    "<pre>\n",
    "<b>1. read_data(file_path)</b>\n",
    "  \"train_datas.txt\", \"test_datas.txt\" 파일을 읽기 위한 함수\n",
    "  \n",
    "  데이터 예시)\n",
    "    전 통 〈SP〉 문 화 와 〈SP〉 외 래 〈SP〉 ... \\t B_NNG I 〈SP〉 B_NNG I B_JC 〈SP〉 B_NNG I 〈SP〉 ...\n",
    "  \n",
    "  read_data(file_path)\n",
    "  args\n",
    "    file_path : 읽고자 하는 데이터의 경로\n",
    "  return\n",
    "    음절 sequence, 각 음절에 대응하는 라벨 sequence를 담고 있는 리스트\n",
    "    \n",
    "    출력 예시)\n",
    "      datas = [\n",
    "        (['전', '통', '〈SP〉', '문', '화', '와', '〈SP〉', '외', '래', '〈SP〉', ...], ['B_NNG', 'I', '〈SP〉', 'B_NNG', 'I', 'B_JC', '〈SP〉', 'B_NNG', 'I', '〈SP〉', ...])\n",
    "\n",
    "        (...),\n",
    "        \n",
    "        ]\n",
    "      \n",
    "<b>2. read_vocab_data(vocab_data_path)</b>\n",
    "  \"eumjeol_vocab.txt\", \"label_vocab.txt\" 파일을 읽고 음절과 라벨을 indexing하기 위한 딕셔너리를 생성\n",
    "   \n",
    "  read_vocab_data(vocab_data_path)\n",
    "  args\n",
    "    vocab_data_path : 어휘 파일 경로\n",
    "  return  \n",
    "    term2idx : 라벨을 대응하는 index로 치환하기 위한 딕셔너리\n",
    "    idx2term : index를 대응하는 라벨로 치환하기 위한 딕셔너리\n",
    "    \n",
    "<b>3. convert_data2feature(datas, max_length, eumjeol2idx, label2idx)</b>\n",
    "  입력 데이터를 고정된 길이로 변환 후 indexing\n",
    "  Tensor로 변환\n",
    "   \n",
    "  convert_data2feature(datas, max_length, eumjeol2idx, label2idx)\n",
    "  args\n",
    "    datas : 음절 sequence, 각 음절에 대응하는 라벨 sequence를 담고 있는 리스트\n",
    "    max_length : 입력의 최대 길이\n",
    "    eumjeol2idx : 음절을 대응하는 index로 치환하기 위한 딕셔너리\n",
    "    label2idx : 라벨을 대응하는 index로 치환하기 위한 딕셔너리\n",
    "  return\n",
    "    입력 데이터와 각각의 데이터의 실제 길이를 담고 있는 Tensor\n",
    "    \n",
    "  전처리 예시)\n",
    "    datas = [\n",
    "        (['전', '통', '〈SP〉', '문', '화', '와', '〈SP〉', '외', '래', '〈SP〉', ...], ['B_NNG', 'I', '〈SP〉', 'B_NNG', 'I', 'B_JC', '〈SP〉', 'B_NNG', 'I', '〈SP〉', ...])\n",
    "\n",
    "        (...),\n",
    "        \n",
    "        ]\n",
    "    \n",
    "    eumjeol_features : Tensor([1307, 1664, 15, 723, 1831, 1197, 15, 1208, ... ], [...], ...)\n",
    "    label_features : Tensor([ 99, 199, 1, 99, 199, 54, 1, 99, 199, 1, 99, 199, ... ], [...], ...)\n",
    " </pre>\n"
   ]
  },
  {
   "cell_type": "code",
   "execution_count": null,
   "metadata": {
    "id": "iOGS8rse1ZZZ"
   },
   "outputs": [],
   "source": [
    "import torch\n",
    "import numpy as np\n",
    "\n",
    "\n",
    "# 학습 or 평가 데이터를 읽어 리스트에 저장\n",
    "def read_data(file_path):\n",
    "    with open(file_path, \"r\", encoding=\"utf8\") as inFile:\n",
    "        lines = inFile.readlines()\n",
    "\n",
    "    datas = []\n",
    "    for line in lines:\n",
    "        # 입력 문장을 \\t으로 분리\n",
    "        pieces = line.strip().split(\"\\t\")\n",
    "\n",
    "        # 입력 문자열을 음절 단위로 분리\n",
    "        eumjeol_sequence, label_sequence = pieces[0].split(), pieces[1].split()\n",
    "\n",
    "        datas.append((eumjeol_sequence, label_sequence))\n",
    "\n",
    "    return datas\n",
    "\n",
    "\n",
    "# 데이터를 읽고 대응하는 딕셔너리 생성\n",
    "def read_vocab_data(vocab_data_path):\n",
    "    term2idx, idx2term = {}, {}\n",
    "\n",
    "    with open(vocab_data_path, \"r\", encoding=\"utf8\") as inFile:\n",
    "        lines = inFile.readlines()\n",
    "\n",
    "    for line in lines:\n",
    "        term = line.strip()\n",
    "        term2idx[term] = len(term2idx)\n",
    "        idx2term[term2idx[term]] = term\n",
    "\n",
    "    return term2idx, idx2term\n",
    "\n",
    "\n",
    "# 입력 데이터 전처리\n",
    "def convert_data2feature(datas, max_length, eumjeol2idx, label2idx):\n",
    "    # 음절 데이터, 각 데이터의 실제 길이, 라벨 데이터를 담을 리스트\n",
    "    eumjeol_features, label_features = [], []\n",
    "\n",
    "    for eumjeol_sequence, label_sequence in datas:\n",
    "\n",
    "        # 사전 설정한 max_length의 길이를 갖는 numpy array 생성\n",
    "        eumjeol_feature = np.zeros(shape=(max_length), dtype=int)\n",
    "        label_feature = np.zeros(shape=(max_length), dtype=int)\n",
    "\n",
    "        # 음절 sequence와 라벨 sequence의 각 값들을 index로 치환하고 위에서 생성한 numpy array에 저장\n",
    "        for index in range(len(eumjeol_sequence[:max_length])):\n",
    "            eumjeol_feature[index] = eumjeol2idx[eumjeol_sequence[index]]\n",
    "            label_feature[index] = label2idx[label_sequence[index]]\n",
    "\n",
    "        # 변환한 데이터를 각 리스트에 저장\n",
    "        eumjeol_features.append(eumjeol_feature)\n",
    "        label_features.append(label_feature)\n",
    "\n",
    "    # 변환한 데이터를 Tensor 객체에 담아 반환\n",
    "    eumjeol_features = torch.tensor(np.array(eumjeol_features), dtype=torch.long)\n",
    "    label_features = torch.tensor(np.array(label_features), dtype=torch.long)\n",
    "\n",
    "    return eumjeol_features, label_features"
   ]
  },
  {
   "cell_type": "markdown",
   "metadata": {
    "id": "urLIOIHT779c"
   },
   "source": [
    "<h2>BiLSTM_CRF 모델 학습</h2>\n",
    "\n",
    "<pre>\n",
    "<b>1. read_data(file_path) 함수를 사용하여 학습 및 평가 데이터 읽기</b>\n",
    "\n",
    "<b>2. read_vocab_data(vocab_data_path) 함수를 사용하여 어휘 딕셔너리 생성</b>\n",
    "\n",
    "<b>3. convert_data2feature(datas, max_length, eumjeol2idx, label2idx) 함수를 사용하여 데이터 전처리</b>\n",
    "\n",
    "<b>4. BiLSTM_CRF 모델 객체 선언</b>\n",
    "\n",
    "<b>5. epoch 마다 학습한 모델 파일 저장</b>\n",
    "</pre>"
   ]
  },
  {
   "cell_type": "code",
   "execution_count": null,
   "metadata": {
    "id": "rsYLc2YK8eNc"
   },
   "outputs": [],
   "source": [
    "import numpy as np\n",
    "import torch\n",
    "from torch.utils.data import (DataLoader, TensorDataset, RandomSampler)\n",
    "import torch.optim as optim\n",
    "\n",
    "\n",
    "def train(config):\n",
    "    # 학습 데이터 읽기\n",
    "    train_datas = read_data(file_path=config[\"train_data_path\"])\n",
    "\n",
    "    # 음절 및 라벨 딕셔너리 생성\n",
    "    eumjeol2idx, idx2eumjeol = read_vocab_data(vocab_data_path=config[\"eumjeol_vocab_data_path\"])\n",
    "    label2idx, idx2label = read_vocab_data(vocab_data_path=config[\"label_vocab_data_path\"])\n",
    "\n",
    "    # 입력 데이터 전처리\n",
    "    train_eumjeol_features, train_label_features = convert_data2feature(datas=train_datas, max_length=config[\"max_length\"],\n",
    "                                                                        eumjeol2idx=eumjeol2idx, label2idx=label2idx)\n",
    "\n",
    "    # 학습 데이터를 batch 단위로 추출하기 위한 DataLoader 객체 생성\n",
    "    train_dataset = TensorDataset(train_eumjeol_features, train_label_features)\n",
    "    train_dataloader = DataLoader(dataset=train_dataset, batch_size=config[\"batch_size\"],\n",
    "                                  sampler=RandomSampler(train_dataset))\n",
    "\n",
    "    # BiLSTM_CRF 모델 객체 생성\n",
    "    model = BiLSTM_CRF(config).cuda()\n",
    "\n",
    "    # 모델 학습을 위한 optimizer\n",
    "    optimizer = optim.Adam(model.parameters(), lr=1e-3)\n",
    "\n",
    "    for epoch in range(config[\"epoch\"]):\n",
    "        model.train()\n",
    "\n",
    "        losses = []\n",
    "        for batch in train_dataloader:\n",
    "            batch = tuple(t.cuda() for t in batch)\n",
    "\n",
    "            # 음절 데이터, 라벨 데이터\n",
    "            inputs, labels = batch[0], batch[1]\n",
    "\n",
    "            # 모델 학습\n",
    "            loss = model(inputs, labels)\n",
    "\n",
    "            # 역전파 단계를 실행하기 전에 변화도를 0으로 변경\n",
    "            optimizer.zero_grad()\n",
    "\n",
    "            # loss 값으로부터 모델 내부 각 매개변수에 대하여 gradient 계산\n",
    "            loss.backward()\n",
    "\n",
    "            # 모델 내부 각 매개변수 가중치 갱신\n",
    "            optimizer.step()\n",
    "\n",
    "            # batch 단위 loss 값 저장\n",
    "            losses.append(loss.data.item())\n",
    "\n",
    "        torch.save(model.state_dict(), os.path.join(output_dir, \"trained_model.pt\"))\n",
    "\n",
    "        # 평균 loss 출력\n",
    "        print(\"Average loss : {}\\n\".format(np.mean(losses)))"
   ]
  },
  {
   "cell_type": "markdown",
   "metadata": {
    "id": "20OC-TY8FIFj"
   },
   "source": [
    "<h2>BiLSTM_CRF 모델 평가</h2>\n",
    "\n",
    "<pre>\n",
    "<b>1. read_data(file_path) 함수를 사용하여 평가 데이터 읽기</b>\n",
    "\n",
    "<b>2. read_vocab_data(vocab_data_path) 함수를 사용하여 어휘 딕셔너리 생성</b>\n",
    "\n",
    "<b>3. convert_data2feature(datas, max_length, eumjeol2idx, label2idx) 함수를 사용하여 데이터 전처리</b>\n",
    "\n",
    "<b>4. BiLSTM_CRF 모델 객체 선언 후 기존에 학습한 모델 파일 불러옴</b>\n",
    "\n",
    "<b>5. 학습한 BiLSTM_CRF 모델 평가</b>\n",
    "\n",
    "</pre>"
   ]
  },
  {
   "cell_type": "code",
   "execution_count": null,
   "metadata": {
    "id": "ORSC_y9Nto04"
   },
   "outputs": [],
   "source": [
    "import torch\n",
    "from torch.utils.data import (DataLoader, TensorDataset, SequentialSampler)\n",
    "\n",
    "\n",
    "def test(config):\n",
    "    # 평가 데이터 읽기\n",
    "    test_datas = read_data(file_path=config[\"test_data_path\"])\n",
    "\n",
    "    # 음절 및 라벨 딕셔너리 생성\n",
    "    eumjeol2idx, idx2eumjeol = read_vocab_data(vocab_data_path=config[\"eumjeol_vocab_data_path\"])\n",
    "    label2idx, idx2label = read_vocab_data(vocab_data_path=config[\"label_vocab_data_path\"])\n",
    "\n",
    "    test_eumjeol_features, test_label_features = convert_data2feature(datas=test_datas, max_length=config[\"max_length\"],\n",
    "                                                                      eumjeol2idx=eumjeol2idx, label2idx=label2idx)\n",
    "\n",
    "    # 평가 데이터를 batch 단위로 추출하기 위한 DataLoader 객체 생성\n",
    "    test_dataset = TensorDataset(test_eumjeol_features, test_label_features)\n",
    "    test_dataloader = DataLoader(dataset=test_dataset, batch_size=1, sampler=SequentialSampler(test_dataset))\n",
    "\n",
    "    # BiLSTM_CRF 모델 객체 생성\n",
    "    model = BiLSTM_CRF(config).cuda()\n",
    "    # 사전학습한 모델 파일로부터 가중치 불러옴\n",
    "    model.load_state_dict(torch.load(os.path.join(config[\"output_dir_path\"], config[\"trained_model_name\"])))\n",
    "\n",
    "    model.eval()\n",
    "\n",
    "    for batch in test_dataloader:\n",
    "        batch = tuple(t.cuda() for t in batch)\n",
    "\n",
    "        # 음절 데이터, 라벨 데이터\n",
    "        inputs, labels = batch[0], batch[1]\n",
    "\n",
    "        # 모델 평가\n",
    "        predicts = model(inputs)\n",
    "        inputs, predicts, labels = inputs[0], predicts[0], labels[0]\n",
    "\n",
    "        # Tensor를 numpy array로 변경하고 입력 데이터의 실제 길이만큼 추출\n",
    "        inputs = inputs.cpu().numpy().tolist()\n",
    "        labels = labels.cpu().numpy().tolist()\n",
    "\n",
    "        input_length = config[\"max_length\"] - inputs.count(0)\n",
    "\n",
    "        inputs = [idx2eumjeol[piece] for piece in inputs[:input_length]]\n",
    "        predicts = [idx2label[piece] for piece in predicts[:input_length]]\n",
    "        labels = [idx2label[piece] for piece in labels[:input_length]]\n",
    "\n",
    "        print(\"inputs : {}\".format(inputs))\n",
    "        print(\"predicts : {}\".format(predicts))\n",
    "        print(\"labels : {}\".format(labels))\n",
    "        print()"
   ]
  },
  {
   "cell_type": "code",
   "execution_count": null,
   "metadata": {
    "id": "GbtyjwvtFxf7"
   },
   "outputs": [],
   "source": [
    "import os\n",
    "\n",
    "\n",
    "if(__name__==\"__main__\"):\n",
    "    output_dir = os.path.join(root_dir, \"output\")\n",
    "    if not os.path.exists(output_dir):\n",
    "        os.makedirs(output_dir)\n",
    "\n",
    "    config = {\"mode\": \"train\",\n",
    "              \"trained_model_name\": \"trained_model.pt\",\n",
    "              \"train_data_path\": os.path.join(root_dir, \"train_datas.txt\"),\n",
    "              \"test_data_path\": os.path.join(root_dir, \"test_datas.txt\"),\n",
    "              \"output_dir_path\": output_dir,\n",
    "              \"eumjeol_vocab_data_path\": os.path.join(root_dir, \"eumjeol_vocab.txt\"),\n",
    "              \"label_vocab_data_path\": os.path.join(root_dir, \"label_vocab.txt\"),\n",
    "              \"eumjeol_vocab_size\": 1621,\n",
    "              \"embedding_size\": 128,\n",
    "              \"hidden_size\": 128,\n",
    "              \"max_length\": 100,\n",
    "              \"number_of_tags\": 51,\n",
    "              \"epoch\": 10,\n",
    "              \"batch_size\": 64,\n",
    "              \"dropout\": 0.1\n",
    "              }\n",
    "\n",
    "    if(config[\"mode\"] == \"train\"):\n",
    "        train(config)\n",
    "    else:\n",
    "        test(config)"
   ]
  },
  {
   "cell_type": "code",
   "execution_count": null,
   "metadata": {
    "id": "Z8UiDVMc7r2r"
   },
   "outputs": [],
   "source": []
  }
 ],
 "metadata": {
  "colab": {
   "provenance": []
  },
  "kernelspec": {
   "name": "python3",
   "display_name": "Python 3"
  },
  "accelerator": "GPU"
 },
 "nbformat": 4,
 "nbformat_minor": 0
}
